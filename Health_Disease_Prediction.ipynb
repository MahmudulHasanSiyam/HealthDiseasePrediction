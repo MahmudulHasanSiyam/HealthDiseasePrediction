{
  "nbformat": 4,
  "nbformat_minor": 0,
  "metadata": {
    "colab": {
      "provenance": [],
      "collapsed_sections": [],
      "mount_file_id": "15XQ_z9iImru1BvqpB57ZyPxm9o54SNMN",
      "authorship_tag": "ABX9TyOEqnlJC3CKv1GbPb+Zxgmt",
      "include_colab_link": true
    },
    "kernelspec": {
      "name": "python3",
      "display_name": "Python 3"
    },
    "language_info": {
      "name": "python"
    }
  },
  "cells": [
    {
      "cell_type": "markdown",
      "metadata": {
        "id": "view-in-github",
        "colab_type": "text"
      },
      "source": [
        "<a href=\"https://colab.research.google.com/github/MahmudulHasanSiyam/HealthDiseasePrediction/blob/main/Health_Disease_Prediction.ipynb\" target=\"_parent\"><img src=\"https://colab.research.google.com/assets/colab-badge.svg\" alt=\"Open In Colab\"/></a>"
      ]
    },
    {
      "cell_type": "markdown",
      "metadata": {
        "id": "McECa0enOA2d"
      },
      "source": [
        "###Importing Libraries"
      ]
    },
    {
      "cell_type": "code",
      "execution_count": null,
      "metadata": {
        "id": "98enXgPePM9F"
      },
      "outputs": [],
      "source": [
        "import pandas as pd\n",
        "import numpy as np\n",
        "import matplotlib.pyplot as plt"
      ]
    },
    {
      "cell_type": "markdown",
      "metadata": {
        "id": "Dv0xyha6OM9p"
      },
      "source": [
        "###Importing the Datasets"
      ]
    },
    {
      "cell_type": "code",
      "execution_count": null,
      "metadata": {
        "id": "pYWz0ao-OOMX"
      },
      "outputs": [],
      "source": [
        "df = pd.read_csv(\"/content/health.csv\")"
      ]
    },
    {
      "cell_type": "code",
      "execution_count": null,
      "metadata": {
        "colab": {
          "base_uri": "https://localhost:8080/",
          "height": 423
        },
        "id": "Hx0wznSMOSd6",
        "outputId": "d838b8d8-fa7c-40ca-8a15-e072434d54ce"
      },
      "outputs": [
        {
          "output_type": "execute_result",
          "data": {
            "text/plain": [
              "         disease  increase            loc  number  population  year\n",
              "0        MEASLES    334.99        ALABAMA    8843     2640000  1928\n",
              "1        MEASLES    200.75        ARIZONA     847      422000  1928\n",
              "2        MEASLES    481.77       ARKANSAS    8899     1847000  1928\n",
              "3        MEASLES     69.22     CALIFORNIA    3698     5344000  1928\n",
              "4        MEASLES    206.98       COLORADO    2099     1014000  1928\n",
              "...          ...       ...            ...     ...         ...   ...\n",
              "14260  PERTUSSIS      2.06       VIRGINIA     171     8096604  2011\n",
              "14261  PERTUSSIS     10.68     WASHINGTON     731     6830038  2011\n",
              "14262  PERTUSSIS      1.99  WEST VIRGINIA      37     1855364  2011\n",
              "14263  PERTUSSIS      6.20      WISCONSIN     351     5711767  2011\n",
              "14264  PERTUSSIS      1.25        WYOMING       7      568158  2011\n",
              "\n",
              "[14265 rows x 6 columns]"
            ],
            "text/html": [
              "\n",
              "  <div id=\"df-10c8459f-e9a3-4e58-814d-6b62e56fb54c\">\n",
              "    <div class=\"colab-df-container\">\n",
              "      <div>\n",
              "<style scoped>\n",
              "    .dataframe tbody tr th:only-of-type {\n",
              "        vertical-align: middle;\n",
              "    }\n",
              "\n",
              "    .dataframe tbody tr th {\n",
              "        vertical-align: top;\n",
              "    }\n",
              "\n",
              "    .dataframe thead th {\n",
              "        text-align: right;\n",
              "    }\n",
              "</style>\n",
              "<table border=\"1\" class=\"dataframe\">\n",
              "  <thead>\n",
              "    <tr style=\"text-align: right;\">\n",
              "      <th></th>\n",
              "      <th>disease</th>\n",
              "      <th>increase</th>\n",
              "      <th>loc</th>\n",
              "      <th>number</th>\n",
              "      <th>population</th>\n",
              "      <th>year</th>\n",
              "    </tr>\n",
              "  </thead>\n",
              "  <tbody>\n",
              "    <tr>\n",
              "      <th>0</th>\n",
              "      <td>MEASLES</td>\n",
              "      <td>334.99</td>\n",
              "      <td>ALABAMA</td>\n",
              "      <td>8843</td>\n",
              "      <td>2640000</td>\n",
              "      <td>1928</td>\n",
              "    </tr>\n",
              "    <tr>\n",
              "      <th>1</th>\n",
              "      <td>MEASLES</td>\n",
              "      <td>200.75</td>\n",
              "      <td>ARIZONA</td>\n",
              "      <td>847</td>\n",
              "      <td>422000</td>\n",
              "      <td>1928</td>\n",
              "    </tr>\n",
              "    <tr>\n",
              "      <th>2</th>\n",
              "      <td>MEASLES</td>\n",
              "      <td>481.77</td>\n",
              "      <td>ARKANSAS</td>\n",
              "      <td>8899</td>\n",
              "      <td>1847000</td>\n",
              "      <td>1928</td>\n",
              "    </tr>\n",
              "    <tr>\n",
              "      <th>3</th>\n",
              "      <td>MEASLES</td>\n",
              "      <td>69.22</td>\n",
              "      <td>CALIFORNIA</td>\n",
              "      <td>3698</td>\n",
              "      <td>5344000</td>\n",
              "      <td>1928</td>\n",
              "    </tr>\n",
              "    <tr>\n",
              "      <th>4</th>\n",
              "      <td>MEASLES</td>\n",
              "      <td>206.98</td>\n",
              "      <td>COLORADO</td>\n",
              "      <td>2099</td>\n",
              "      <td>1014000</td>\n",
              "      <td>1928</td>\n",
              "    </tr>\n",
              "    <tr>\n",
              "      <th>...</th>\n",
              "      <td>...</td>\n",
              "      <td>...</td>\n",
              "      <td>...</td>\n",
              "      <td>...</td>\n",
              "      <td>...</td>\n",
              "      <td>...</td>\n",
              "    </tr>\n",
              "    <tr>\n",
              "      <th>14260</th>\n",
              "      <td>PERTUSSIS</td>\n",
              "      <td>2.06</td>\n",
              "      <td>VIRGINIA</td>\n",
              "      <td>171</td>\n",
              "      <td>8096604</td>\n",
              "      <td>2011</td>\n",
              "    </tr>\n",
              "    <tr>\n",
              "      <th>14261</th>\n",
              "      <td>PERTUSSIS</td>\n",
              "      <td>10.68</td>\n",
              "      <td>WASHINGTON</td>\n",
              "      <td>731</td>\n",
              "      <td>6830038</td>\n",
              "      <td>2011</td>\n",
              "    </tr>\n",
              "    <tr>\n",
              "      <th>14262</th>\n",
              "      <td>PERTUSSIS</td>\n",
              "      <td>1.99</td>\n",
              "      <td>WEST VIRGINIA</td>\n",
              "      <td>37</td>\n",
              "      <td>1855364</td>\n",
              "      <td>2011</td>\n",
              "    </tr>\n",
              "    <tr>\n",
              "      <th>14263</th>\n",
              "      <td>PERTUSSIS</td>\n",
              "      <td>6.20</td>\n",
              "      <td>WISCONSIN</td>\n",
              "      <td>351</td>\n",
              "      <td>5711767</td>\n",
              "      <td>2011</td>\n",
              "    </tr>\n",
              "    <tr>\n",
              "      <th>14264</th>\n",
              "      <td>PERTUSSIS</td>\n",
              "      <td>1.25</td>\n",
              "      <td>WYOMING</td>\n",
              "      <td>7</td>\n",
              "      <td>568158</td>\n",
              "      <td>2011</td>\n",
              "    </tr>\n",
              "  </tbody>\n",
              "</table>\n",
              "<p>14265 rows × 6 columns</p>\n",
              "</div>\n",
              "      <button class=\"colab-df-convert\" onclick=\"convertToInteractive('df-10c8459f-e9a3-4e58-814d-6b62e56fb54c')\"\n",
              "              title=\"Convert this dataframe to an interactive table.\"\n",
              "              style=\"display:none;\">\n",
              "        \n",
              "  <svg xmlns=\"http://www.w3.org/2000/svg\" height=\"24px\"viewBox=\"0 0 24 24\"\n",
              "       width=\"24px\">\n",
              "    <path d=\"M0 0h24v24H0V0z\" fill=\"none\"/>\n",
              "    <path d=\"M18.56 5.44l.94 2.06.94-2.06 2.06-.94-2.06-.94-.94-2.06-.94 2.06-2.06.94zm-11 1L8.5 8.5l.94-2.06 2.06-.94-2.06-.94L8.5 2.5l-.94 2.06-2.06.94zm10 10l.94 2.06.94-2.06 2.06-.94-2.06-.94-.94-2.06-.94 2.06-2.06.94z\"/><path d=\"M17.41 7.96l-1.37-1.37c-.4-.4-.92-.59-1.43-.59-.52 0-1.04.2-1.43.59L10.3 9.45l-7.72 7.72c-.78.78-.78 2.05 0 2.83L4 21.41c.39.39.9.59 1.41.59.51 0 1.02-.2 1.41-.59l7.78-7.78 2.81-2.81c.8-.78.8-2.07 0-2.86zM5.41 20L4 18.59l7.72-7.72 1.47 1.35L5.41 20z\"/>\n",
              "  </svg>\n",
              "      </button>\n",
              "      \n",
              "  <style>\n",
              "    .colab-df-container {\n",
              "      display:flex;\n",
              "      flex-wrap:wrap;\n",
              "      gap: 12px;\n",
              "    }\n",
              "\n",
              "    .colab-df-convert {\n",
              "      background-color: #E8F0FE;\n",
              "      border: none;\n",
              "      border-radius: 50%;\n",
              "      cursor: pointer;\n",
              "      display: none;\n",
              "      fill: #1967D2;\n",
              "      height: 32px;\n",
              "      padding: 0 0 0 0;\n",
              "      width: 32px;\n",
              "    }\n",
              "\n",
              "    .colab-df-convert:hover {\n",
              "      background-color: #E2EBFA;\n",
              "      box-shadow: 0px 1px 2px rgba(60, 64, 67, 0.3), 0px 1px 3px 1px rgba(60, 64, 67, 0.15);\n",
              "      fill: #174EA6;\n",
              "    }\n",
              "\n",
              "    [theme=dark] .colab-df-convert {\n",
              "      background-color: #3B4455;\n",
              "      fill: #D2E3FC;\n",
              "    }\n",
              "\n",
              "    [theme=dark] .colab-df-convert:hover {\n",
              "      background-color: #434B5C;\n",
              "      box-shadow: 0px 1px 3px 1px rgba(0, 0, 0, 0.15);\n",
              "      filter: drop-shadow(0px 1px 2px rgba(0, 0, 0, 0.3));\n",
              "      fill: #FFFFFF;\n",
              "    }\n",
              "  </style>\n",
              "\n",
              "      <script>\n",
              "        const buttonEl =\n",
              "          document.querySelector('#df-10c8459f-e9a3-4e58-814d-6b62e56fb54c button.colab-df-convert');\n",
              "        buttonEl.style.display =\n",
              "          google.colab.kernel.accessAllowed ? 'block' : 'none';\n",
              "\n",
              "        async function convertToInteractive(key) {\n",
              "          const element = document.querySelector('#df-10c8459f-e9a3-4e58-814d-6b62e56fb54c');\n",
              "          const dataTable =\n",
              "            await google.colab.kernel.invokeFunction('convertToInteractive',\n",
              "                                                     [key], {});\n",
              "          if (!dataTable) return;\n",
              "\n",
              "          const docLinkHtml = 'Like what you see? Visit the ' +\n",
              "            '<a target=\"_blank\" href=https://colab.research.google.com/notebooks/data_table.ipynb>data table notebook</a>'\n",
              "            + ' to learn more about interactive tables.';\n",
              "          element.innerHTML = '';\n",
              "          dataTable['output_type'] = 'display_data';\n",
              "          await google.colab.output.renderOutput(dataTable, element);\n",
              "          const docLink = document.createElement('div');\n",
              "          docLink.innerHTML = docLinkHtml;\n",
              "          element.appendChild(docLink);\n",
              "        }\n",
              "      </script>\n",
              "    </div>\n",
              "  </div>\n",
              "  "
            ]
          },
          "metadata": {},
          "execution_count": 45
        }
      ],
      "source": [
        "df"
      ]
    },
    {
      "cell_type": "code",
      "execution_count": null,
      "metadata": {
        "colab": {
          "base_uri": "https://localhost:8080/",
          "height": 300
        },
        "id": "Ihk9i1qhOWAJ",
        "outputId": "54c43d3e-0267-4387-b790-0314abc653d1"
      },
      "outputs": [
        {
          "output_type": "execute_result",
          "data": {
            "text/plain": [
              "           increase         number    population          year\n",
              "count  14265.000000   14265.000000  1.426500e+04  14265.000000\n",
              "mean      57.337309    1680.833719  4.267321e+06   1969.932983\n",
              "std      165.191354    6219.396618  4.822080e+06     23.050123\n",
              "min        0.000000       0.000000  8.900000e+04   1928.000000\n",
              "25%        0.720000      17.000000  1.090000e+06   1948.000000\n",
              "50%        3.910000     109.000000  2.810107e+06   1973.000000\n",
              "75%       25.370000     677.000000  5.204464e+06   1989.000000\n",
              "max     2974.790000  132342.000000  3.769191e+07   2011.000000"
            ],
            "text/html": [
              "\n",
              "  <div id=\"df-edcaa7a2-46e3-4d7f-9e00-b590c02bd0ff\">\n",
              "    <div class=\"colab-df-container\">\n",
              "      <div>\n",
              "<style scoped>\n",
              "    .dataframe tbody tr th:only-of-type {\n",
              "        vertical-align: middle;\n",
              "    }\n",
              "\n",
              "    .dataframe tbody tr th {\n",
              "        vertical-align: top;\n",
              "    }\n",
              "\n",
              "    .dataframe thead th {\n",
              "        text-align: right;\n",
              "    }\n",
              "</style>\n",
              "<table border=\"1\" class=\"dataframe\">\n",
              "  <thead>\n",
              "    <tr style=\"text-align: right;\">\n",
              "      <th></th>\n",
              "      <th>increase</th>\n",
              "      <th>number</th>\n",
              "      <th>population</th>\n",
              "      <th>year</th>\n",
              "    </tr>\n",
              "  </thead>\n",
              "  <tbody>\n",
              "    <tr>\n",
              "      <th>count</th>\n",
              "      <td>14265.000000</td>\n",
              "      <td>14265.000000</td>\n",
              "      <td>1.426500e+04</td>\n",
              "      <td>14265.000000</td>\n",
              "    </tr>\n",
              "    <tr>\n",
              "      <th>mean</th>\n",
              "      <td>57.337309</td>\n",
              "      <td>1680.833719</td>\n",
              "      <td>4.267321e+06</td>\n",
              "      <td>1969.932983</td>\n",
              "    </tr>\n",
              "    <tr>\n",
              "      <th>std</th>\n",
              "      <td>165.191354</td>\n",
              "      <td>6219.396618</td>\n",
              "      <td>4.822080e+06</td>\n",
              "      <td>23.050123</td>\n",
              "    </tr>\n",
              "    <tr>\n",
              "      <th>min</th>\n",
              "      <td>0.000000</td>\n",
              "      <td>0.000000</td>\n",
              "      <td>8.900000e+04</td>\n",
              "      <td>1928.000000</td>\n",
              "    </tr>\n",
              "    <tr>\n",
              "      <th>25%</th>\n",
              "      <td>0.720000</td>\n",
              "      <td>17.000000</td>\n",
              "      <td>1.090000e+06</td>\n",
              "      <td>1948.000000</td>\n",
              "    </tr>\n",
              "    <tr>\n",
              "      <th>50%</th>\n",
              "      <td>3.910000</td>\n",
              "      <td>109.000000</td>\n",
              "      <td>2.810107e+06</td>\n",
              "      <td>1973.000000</td>\n",
              "    </tr>\n",
              "    <tr>\n",
              "      <th>75%</th>\n",
              "      <td>25.370000</td>\n",
              "      <td>677.000000</td>\n",
              "      <td>5.204464e+06</td>\n",
              "      <td>1989.000000</td>\n",
              "    </tr>\n",
              "    <tr>\n",
              "      <th>max</th>\n",
              "      <td>2974.790000</td>\n",
              "      <td>132342.000000</td>\n",
              "      <td>3.769191e+07</td>\n",
              "      <td>2011.000000</td>\n",
              "    </tr>\n",
              "  </tbody>\n",
              "</table>\n",
              "</div>\n",
              "      <button class=\"colab-df-convert\" onclick=\"convertToInteractive('df-edcaa7a2-46e3-4d7f-9e00-b590c02bd0ff')\"\n",
              "              title=\"Convert this dataframe to an interactive table.\"\n",
              "              style=\"display:none;\">\n",
              "        \n",
              "  <svg xmlns=\"http://www.w3.org/2000/svg\" height=\"24px\"viewBox=\"0 0 24 24\"\n",
              "       width=\"24px\">\n",
              "    <path d=\"M0 0h24v24H0V0z\" fill=\"none\"/>\n",
              "    <path d=\"M18.56 5.44l.94 2.06.94-2.06 2.06-.94-2.06-.94-.94-2.06-.94 2.06-2.06.94zm-11 1L8.5 8.5l.94-2.06 2.06-.94-2.06-.94L8.5 2.5l-.94 2.06-2.06.94zm10 10l.94 2.06.94-2.06 2.06-.94-2.06-.94-.94-2.06-.94 2.06-2.06.94z\"/><path d=\"M17.41 7.96l-1.37-1.37c-.4-.4-.92-.59-1.43-.59-.52 0-1.04.2-1.43.59L10.3 9.45l-7.72 7.72c-.78.78-.78 2.05 0 2.83L4 21.41c.39.39.9.59 1.41.59.51 0 1.02-.2 1.41-.59l7.78-7.78 2.81-2.81c.8-.78.8-2.07 0-2.86zM5.41 20L4 18.59l7.72-7.72 1.47 1.35L5.41 20z\"/>\n",
              "  </svg>\n",
              "      </button>\n",
              "      \n",
              "  <style>\n",
              "    .colab-df-container {\n",
              "      display:flex;\n",
              "      flex-wrap:wrap;\n",
              "      gap: 12px;\n",
              "    }\n",
              "\n",
              "    .colab-df-convert {\n",
              "      background-color: #E8F0FE;\n",
              "      border: none;\n",
              "      border-radius: 50%;\n",
              "      cursor: pointer;\n",
              "      display: none;\n",
              "      fill: #1967D2;\n",
              "      height: 32px;\n",
              "      padding: 0 0 0 0;\n",
              "      width: 32px;\n",
              "    }\n",
              "\n",
              "    .colab-df-convert:hover {\n",
              "      background-color: #E2EBFA;\n",
              "      box-shadow: 0px 1px 2px rgba(60, 64, 67, 0.3), 0px 1px 3px 1px rgba(60, 64, 67, 0.15);\n",
              "      fill: #174EA6;\n",
              "    }\n",
              "\n",
              "    [theme=dark] .colab-df-convert {\n",
              "      background-color: #3B4455;\n",
              "      fill: #D2E3FC;\n",
              "    }\n",
              "\n",
              "    [theme=dark] .colab-df-convert:hover {\n",
              "      background-color: #434B5C;\n",
              "      box-shadow: 0px 1px 3px 1px rgba(0, 0, 0, 0.15);\n",
              "      filter: drop-shadow(0px 1px 2px rgba(0, 0, 0, 0.3));\n",
              "      fill: #FFFFFF;\n",
              "    }\n",
              "  </style>\n",
              "\n",
              "      <script>\n",
              "        const buttonEl =\n",
              "          document.querySelector('#df-edcaa7a2-46e3-4d7f-9e00-b590c02bd0ff button.colab-df-convert');\n",
              "        buttonEl.style.display =\n",
              "          google.colab.kernel.accessAllowed ? 'block' : 'none';\n",
              "\n",
              "        async function convertToInteractive(key) {\n",
              "          const element = document.querySelector('#df-edcaa7a2-46e3-4d7f-9e00-b590c02bd0ff');\n",
              "          const dataTable =\n",
              "            await google.colab.kernel.invokeFunction('convertToInteractive',\n",
              "                                                     [key], {});\n",
              "          if (!dataTable) return;\n",
              "\n",
              "          const docLinkHtml = 'Like what you see? Visit the ' +\n",
              "            '<a target=\"_blank\" href=https://colab.research.google.com/notebooks/data_table.ipynb>data table notebook</a>'\n",
              "            + ' to learn more about interactive tables.';\n",
              "          element.innerHTML = '';\n",
              "          dataTable['output_type'] = 'display_data';\n",
              "          await google.colab.output.renderOutput(dataTable, element);\n",
              "          const docLink = document.createElement('div');\n",
              "          docLink.innerHTML = docLinkHtml;\n",
              "          element.appendChild(docLink);\n",
              "        }\n",
              "      </script>\n",
              "    </div>\n",
              "  </div>\n",
              "  "
            ]
          },
          "metadata": {},
          "execution_count": 46
        }
      ],
      "source": [
        "df.describe()"
      ]
    },
    {
      "cell_type": "code",
      "execution_count": null,
      "metadata": {
        "colab": {
          "base_uri": "https://localhost:8080/"
        },
        "id": "kofzwO5fOYYf",
        "outputId": "2d7a7c66-bd26-4a1e-92cd-840bcf15c2fa"
      },
      "outputs": [
        {
          "output_type": "execute_result",
          "data": {
            "text/plain": [
              "disease       0\n",
              "increase      0\n",
              "loc           0\n",
              "number        0\n",
              "population    0\n",
              "year          0\n",
              "dtype: int64"
            ]
          },
          "metadata": {},
          "execution_count": 47
        }
      ],
      "source": [
        "df.isnull().sum()"
      ]
    },
    {
      "cell_type": "code",
      "execution_count": null,
      "metadata": {
        "colab": {
          "base_uri": "https://localhost:8080/"
        },
        "id": "DEJPKDtwOZjq",
        "outputId": "3d073fb5-4cd7-4192-c4b7-ebc792382ea4"
      },
      "outputs": [
        {
          "output_type": "stream",
          "name": "stdout",
          "text": [
            "<class 'pandas.core.frame.DataFrame'>\n",
            "RangeIndex: 14265 entries, 0 to 14264\n",
            "Data columns (total 6 columns):\n",
            " #   Column      Non-Null Count  Dtype  \n",
            "---  ------      --------------  -----  \n",
            " 0   disease     14265 non-null  object \n",
            " 1   increase    14265 non-null  float64\n",
            " 2   loc         14265 non-null  object \n",
            " 3   number      14265 non-null  int64  \n",
            " 4   population  14265 non-null  int64  \n",
            " 5   year        14265 non-null  int64  \n",
            "dtypes: float64(1), int64(3), object(2)\n",
            "memory usage: 668.8+ KB\n"
          ]
        }
      ],
      "source": [
        "df.info()"
      ]
    },
    {
      "cell_type": "code",
      "execution_count": null,
      "metadata": {
        "colab": {
          "base_uri": "https://localhost:8080/"
        },
        "id": "P3dPuCx0OdgZ",
        "outputId": "24a9cc93-2b41-441b-ec7a-8657883f9def"
      },
      "outputs": [
        {
          "output_type": "execute_result",
          "data": {
            "text/plain": [
              "<bound method NDFrame.equals of          disease  increase            loc  number  population  year\n",
              "0        MEASLES    334.99        ALABAMA    8843     2640000  1928\n",
              "1        MEASLES    200.75        ARIZONA     847      422000  1928\n",
              "2        MEASLES    481.77       ARKANSAS    8899     1847000  1928\n",
              "3        MEASLES     69.22     CALIFORNIA    3698     5344000  1928\n",
              "4        MEASLES    206.98       COLORADO    2099     1014000  1928\n",
              "...          ...       ...            ...     ...         ...   ...\n",
              "14260  PERTUSSIS      2.06       VIRGINIA     171     8096604  2011\n",
              "14261  PERTUSSIS     10.68     WASHINGTON     731     6830038  2011\n",
              "14262  PERTUSSIS      1.99  WEST VIRGINIA      37     1855364  2011\n",
              "14263  PERTUSSIS      6.20      WISCONSIN     351     5711767  2011\n",
              "14264  PERTUSSIS      1.25        WYOMING       7      568158  2011\n",
              "\n",
              "[14265 rows x 6 columns]>"
            ]
          },
          "metadata": {},
          "execution_count": 49
        }
      ],
      "source": [
        "df.equals"
      ]
    },
    {
      "cell_type": "code",
      "execution_count": null,
      "metadata": {
        "colab": {
          "base_uri": "https://localhost:8080/",
          "height": 423
        },
        "id": "5vTw_25UOfpw",
        "outputId": "c8b65d88-c101-45ed-9334-77c38b257efd"
      },
      "outputs": [
        {
          "output_type": "execute_result",
          "data": {
            "text/plain": [
              "         disease  increase            loc  number  population  year\n",
              "0        MEASLES    334.99        ALABAMA    8843     2640000  1928\n",
              "1        MEASLES    200.75        ARIZONA     847      422000  1928\n",
              "2        MEASLES    481.77       ARKANSAS    8899     1847000  1928\n",
              "3        MEASLES     69.22     CALIFORNIA    3698     5344000  1928\n",
              "4        MEASLES    206.98       COLORADO    2099     1014000  1928\n",
              "...          ...       ...            ...     ...         ...   ...\n",
              "14260  PERTUSSIS      2.06       VIRGINIA     171     8096604  2011\n",
              "14261  PERTUSSIS     10.68     WASHINGTON     731     6830038  2011\n",
              "14262  PERTUSSIS      1.99  WEST VIRGINIA      37     1855364  2011\n",
              "14263  PERTUSSIS      6.20      WISCONSIN     351     5711767  2011\n",
              "14264  PERTUSSIS      1.25        WYOMING       7      568158  2011\n",
              "\n",
              "[14265 rows x 6 columns]"
            ],
            "text/html": [
              "\n",
              "  <div id=\"df-20c0ea46-86e0-43f3-9113-9cd34d51b1ae\">\n",
              "    <div class=\"colab-df-container\">\n",
              "      <div>\n",
              "<style scoped>\n",
              "    .dataframe tbody tr th:only-of-type {\n",
              "        vertical-align: middle;\n",
              "    }\n",
              "\n",
              "    .dataframe tbody tr th {\n",
              "        vertical-align: top;\n",
              "    }\n",
              "\n",
              "    .dataframe thead th {\n",
              "        text-align: right;\n",
              "    }\n",
              "</style>\n",
              "<table border=\"1\" class=\"dataframe\">\n",
              "  <thead>\n",
              "    <tr style=\"text-align: right;\">\n",
              "      <th></th>\n",
              "      <th>disease</th>\n",
              "      <th>increase</th>\n",
              "      <th>loc</th>\n",
              "      <th>number</th>\n",
              "      <th>population</th>\n",
              "      <th>year</th>\n",
              "    </tr>\n",
              "  </thead>\n",
              "  <tbody>\n",
              "    <tr>\n",
              "      <th>0</th>\n",
              "      <td>MEASLES</td>\n",
              "      <td>334.99</td>\n",
              "      <td>ALABAMA</td>\n",
              "      <td>8843</td>\n",
              "      <td>2640000</td>\n",
              "      <td>1928</td>\n",
              "    </tr>\n",
              "    <tr>\n",
              "      <th>1</th>\n",
              "      <td>MEASLES</td>\n",
              "      <td>200.75</td>\n",
              "      <td>ARIZONA</td>\n",
              "      <td>847</td>\n",
              "      <td>422000</td>\n",
              "      <td>1928</td>\n",
              "    </tr>\n",
              "    <tr>\n",
              "      <th>2</th>\n",
              "      <td>MEASLES</td>\n",
              "      <td>481.77</td>\n",
              "      <td>ARKANSAS</td>\n",
              "      <td>8899</td>\n",
              "      <td>1847000</td>\n",
              "      <td>1928</td>\n",
              "    </tr>\n",
              "    <tr>\n",
              "      <th>3</th>\n",
              "      <td>MEASLES</td>\n",
              "      <td>69.22</td>\n",
              "      <td>CALIFORNIA</td>\n",
              "      <td>3698</td>\n",
              "      <td>5344000</td>\n",
              "      <td>1928</td>\n",
              "    </tr>\n",
              "    <tr>\n",
              "      <th>4</th>\n",
              "      <td>MEASLES</td>\n",
              "      <td>206.98</td>\n",
              "      <td>COLORADO</td>\n",
              "      <td>2099</td>\n",
              "      <td>1014000</td>\n",
              "      <td>1928</td>\n",
              "    </tr>\n",
              "    <tr>\n",
              "      <th>...</th>\n",
              "      <td>...</td>\n",
              "      <td>...</td>\n",
              "      <td>...</td>\n",
              "      <td>...</td>\n",
              "      <td>...</td>\n",
              "      <td>...</td>\n",
              "    </tr>\n",
              "    <tr>\n",
              "      <th>14260</th>\n",
              "      <td>PERTUSSIS</td>\n",
              "      <td>2.06</td>\n",
              "      <td>VIRGINIA</td>\n",
              "      <td>171</td>\n",
              "      <td>8096604</td>\n",
              "      <td>2011</td>\n",
              "    </tr>\n",
              "    <tr>\n",
              "      <th>14261</th>\n",
              "      <td>PERTUSSIS</td>\n",
              "      <td>10.68</td>\n",
              "      <td>WASHINGTON</td>\n",
              "      <td>731</td>\n",
              "      <td>6830038</td>\n",
              "      <td>2011</td>\n",
              "    </tr>\n",
              "    <tr>\n",
              "      <th>14262</th>\n",
              "      <td>PERTUSSIS</td>\n",
              "      <td>1.99</td>\n",
              "      <td>WEST VIRGINIA</td>\n",
              "      <td>37</td>\n",
              "      <td>1855364</td>\n",
              "      <td>2011</td>\n",
              "    </tr>\n",
              "    <tr>\n",
              "      <th>14263</th>\n",
              "      <td>PERTUSSIS</td>\n",
              "      <td>6.20</td>\n",
              "      <td>WISCONSIN</td>\n",
              "      <td>351</td>\n",
              "      <td>5711767</td>\n",
              "      <td>2011</td>\n",
              "    </tr>\n",
              "    <tr>\n",
              "      <th>14264</th>\n",
              "      <td>PERTUSSIS</td>\n",
              "      <td>1.25</td>\n",
              "      <td>WYOMING</td>\n",
              "      <td>7</td>\n",
              "      <td>568158</td>\n",
              "      <td>2011</td>\n",
              "    </tr>\n",
              "  </tbody>\n",
              "</table>\n",
              "<p>14265 rows × 6 columns</p>\n",
              "</div>\n",
              "      <button class=\"colab-df-convert\" onclick=\"convertToInteractive('df-20c0ea46-86e0-43f3-9113-9cd34d51b1ae')\"\n",
              "              title=\"Convert this dataframe to an interactive table.\"\n",
              "              style=\"display:none;\">\n",
              "        \n",
              "  <svg xmlns=\"http://www.w3.org/2000/svg\" height=\"24px\"viewBox=\"0 0 24 24\"\n",
              "       width=\"24px\">\n",
              "    <path d=\"M0 0h24v24H0V0z\" fill=\"none\"/>\n",
              "    <path d=\"M18.56 5.44l.94 2.06.94-2.06 2.06-.94-2.06-.94-.94-2.06-.94 2.06-2.06.94zm-11 1L8.5 8.5l.94-2.06 2.06-.94-2.06-.94L8.5 2.5l-.94 2.06-2.06.94zm10 10l.94 2.06.94-2.06 2.06-.94-2.06-.94-.94-2.06-.94 2.06-2.06.94z\"/><path d=\"M17.41 7.96l-1.37-1.37c-.4-.4-.92-.59-1.43-.59-.52 0-1.04.2-1.43.59L10.3 9.45l-7.72 7.72c-.78.78-.78 2.05 0 2.83L4 21.41c.39.39.9.59 1.41.59.51 0 1.02-.2 1.41-.59l7.78-7.78 2.81-2.81c.8-.78.8-2.07 0-2.86zM5.41 20L4 18.59l7.72-7.72 1.47 1.35L5.41 20z\"/>\n",
              "  </svg>\n",
              "      </button>\n",
              "      \n",
              "  <style>\n",
              "    .colab-df-container {\n",
              "      display:flex;\n",
              "      flex-wrap:wrap;\n",
              "      gap: 12px;\n",
              "    }\n",
              "\n",
              "    .colab-df-convert {\n",
              "      background-color: #E8F0FE;\n",
              "      border: none;\n",
              "      border-radius: 50%;\n",
              "      cursor: pointer;\n",
              "      display: none;\n",
              "      fill: #1967D2;\n",
              "      height: 32px;\n",
              "      padding: 0 0 0 0;\n",
              "      width: 32px;\n",
              "    }\n",
              "\n",
              "    .colab-df-convert:hover {\n",
              "      background-color: #E2EBFA;\n",
              "      box-shadow: 0px 1px 2px rgba(60, 64, 67, 0.3), 0px 1px 3px 1px rgba(60, 64, 67, 0.15);\n",
              "      fill: #174EA6;\n",
              "    }\n",
              "\n",
              "    [theme=dark] .colab-df-convert {\n",
              "      background-color: #3B4455;\n",
              "      fill: #D2E3FC;\n",
              "    }\n",
              "\n",
              "    [theme=dark] .colab-df-convert:hover {\n",
              "      background-color: #434B5C;\n",
              "      box-shadow: 0px 1px 3px 1px rgba(0, 0, 0, 0.15);\n",
              "      filter: drop-shadow(0px 1px 2px rgba(0, 0, 0, 0.3));\n",
              "      fill: #FFFFFF;\n",
              "    }\n",
              "  </style>\n",
              "\n",
              "      <script>\n",
              "        const buttonEl =\n",
              "          document.querySelector('#df-20c0ea46-86e0-43f3-9113-9cd34d51b1ae button.colab-df-convert');\n",
              "        buttonEl.style.display =\n",
              "          google.colab.kernel.accessAllowed ? 'block' : 'none';\n",
              "\n",
              "        async function convertToInteractive(key) {\n",
              "          const element = document.querySelector('#df-20c0ea46-86e0-43f3-9113-9cd34d51b1ae');\n",
              "          const dataTable =\n",
              "            await google.colab.kernel.invokeFunction('convertToInteractive',\n",
              "                                                     [key], {});\n",
              "          if (!dataTable) return;\n",
              "\n",
              "          const docLinkHtml = 'Like what you see? Visit the ' +\n",
              "            '<a target=\"_blank\" href=https://colab.research.google.com/notebooks/data_table.ipynb>data table notebook</a>'\n",
              "            + ' to learn more about interactive tables.';\n",
              "          element.innerHTML = '';\n",
              "          dataTable['output_type'] = 'display_data';\n",
              "          await google.colab.output.renderOutput(dataTable, element);\n",
              "          const docLink = document.createElement('div');\n",
              "          docLink.innerHTML = docLinkHtml;\n",
              "          element.appendChild(docLink);\n",
              "        }\n",
              "      </script>\n",
              "    </div>\n",
              "  </div>\n",
              "  "
            ]
          },
          "metadata": {},
          "execution_count": 50
        }
      ],
      "source": [
        "df.dropna()"
      ]
    },
    {
      "cell_type": "markdown",
      "metadata": {
        "id": "Z2LfNCcEOisO"
      },
      "source": [
        "###Visualization"
      ]
    },
    {
      "cell_type": "markdown",
      "metadata": {
        "id": "Nnvv4DJLMSGJ"
      },
      "source": [
        "###Scatter Plot"
      ]
    },
    {
      "cell_type": "code",
      "execution_count": null,
      "metadata": {
        "colab": {
          "base_uri": "https://localhost:8080/",
          "height": 513
        },
        "id": "IzazK_zYMYyw",
        "outputId": "2151d137-4ddb-47d3-f635-0749ac8d745d"
      },
      "outputs": [
        {
          "output_type": "display_data",
          "data": {
            "text/plain": [
              "<Figure size 720x576 with 1 Axes>"
            ],
            "image/png": "[encoded data removed]"
          },
          "metadata": {
            "needs_background": "light"
          }
        }
      ],
      "source": [
        "fig, ax = plt.subplots()\n",
        "\n",
        "plt.title(\"Health dataset\")\n",
        "plt.xlabel('disease')\n",
        "plt.ylabel('year')\n",
        "\n",
        "ax.scatter(df['disease'],df['year'])\n",
        "fig.set_size_inches(10,8)"
      ]
    },
    {
      "cell_type": "code",
      "execution_count": null,
      "metadata": {
        "colab": {
          "base_uri": "https://localhost:8080/",
          "height": 513
        },
        "id": "Xxw-KDWONvE7",
        "outputId": "5cd3a676-4cb9-4068-9852-af1a75b0739f"
      },
      "outputs": [
        {
          "output_type": "display_data",
          "data": {
            "text/plain": [
              "<Figure size 720x576 with 1 Axes>"
            ],
            "image/png": "[encoded data removed]"
          },
          "metadata": {
            "needs_background": "light"
          }
        }
      ],
      "source": [
        "#Using defferent color\n",
        "colors = {'MEASLES':'green','POLIO':'blue','SMALLPOX':'fuchsia','PERTUSSIS':'orange','HEPATITIS A':'purple','RUBELLA':'lightskyblue','MUMPS':'red'}\n",
        "fig, ax = plt.subplots()\n",
        "\n",
        "plt.title(\"Health dataset\")\n",
        "plt.xlabel('year')\n",
        "plt.ylabel('number')\n",
        "\n",
        "for i in range(len(df['number'])):\n",
        "  ax.scatter(df['year'][i],df['number'][i],color = colors[df['disease'][i]])  \n",
        "fig.set_size_inches(10,8)"
      ]
    },
    {
      "cell_type": "code",
      "execution_count": null,
      "metadata": {
        "colab": {
          "base_uri": "https://localhost:8080/",
          "height": 513
        },
        "id": "mOLWtrNxSXMz",
        "outputId": "d0b4338d-40ca-47df-c003-f12bc53c087c"
      },
      "outputs": [
        {
          "output_type": "display_data",
          "data": {
            "text/plain": [
              "<Figure size 720x576 with 1 Axes>"
            ],
            "image/png": "[encoded data removed]"
          },
          "metadata": {
            "needs_background": "light"
          }
        }
      ],
      "source": [
        "#Using defferent color\n",
        "colors = {'MEASLES':'green','POLIO':'blue','SMALLPOX':'fuchsia','PERTUSSIS':'orange','HEPATITIS A':'purple','RUBELLA':'lightskyblue','MUMPS':'red'}\n",
        "fig, ax = plt.subplots()\n",
        "\n",
        "plt.title(\"Health dataset\")\n",
        "plt.xlabel('loc')\n",
        "plt.ylabel('increase')\n",
        "\n",
        "for i in range(len(df['increase'])):\n",
        "  ax.scatter(df['loc'][i],df['increase'][i],color = colors[df['disease'][i]])  \n",
        "fig.set_size_inches(10,8)"
      ]
    },
    {
      "cell_type": "code",
      "source": [
        "#Using defferent color\n",
        "colors = {'MEASLES':'green','POLIO':'blue','SMALLPOX':'fuchsia','PERTUSSIS':'orange','HEPATITIS A':'purple','RUBELLA':'lightskyblue','MUMPS':'red'}\n",
        "fig, ax = plt.subplots()\n",
        "\n",
        "plt.title(\"Health dataset\")\n",
        "plt.xlabel('year')\n",
        "plt.ylabel('increase')\n",
        "\n",
        "for i in range(len(df['increase'])):\n",
        "  ax.scatter(df['year'][i],df['increase'][i],color = colors[df['disease'][i]])  \n",
        "fig.set_size_inches(10,8)"
      ],
      "metadata": {
        "colab": {
          "base_uri": "https://localhost:8080/",
          "height": 513
        },
        "id": "i72NL3IrESn_",
        "outputId": "1a12be3b-b7e3-4185-a20a-2c02108393df"
      },
      "execution_count": null,
      "outputs": [
        {
          "output_type": "display_data",
          "data": {
            "text/plain": [
              "<Figure size 720x576 with 1 Axes>"
            ],
            "image/png": "[encoded data removed]"
          },
          "metadata": {
            "needs_background": "light"
          }
        }
      ]
    },
    {
      "cell_type": "markdown",
      "metadata": {
        "id": "0RunCkKeOooI"
      },
      "source": [
        "###Barchart\n"
      ]
    },
    {
      "cell_type": "code",
      "execution_count": null,
      "metadata": {
        "colab": {
          "base_uri": "https://localhost:8080/",
          "height": 313
        },
        "id": "c6Pu6UmSOlc5",
        "outputId": "ae4ef295-83b5-41ea-d3a9-2e6e0170c341"
      },
      "outputs": [
        {
          "output_type": "execute_result",
          "data": {
            "text/plain": [
              "<BarContainer object of 7 artists>"
            ]
          },
          "metadata": {},
          "execution_count": 55
        },
        {
          "output_type": "display_data",
          "data": {
            "text/plain": [
              "<Figure size 432x288 with 1 Axes>"
            ],
            "image/png": "[encoded data removed]"
          },
          "metadata": {
            "needs_background": "light"
          }
        }
      ],
      "source": [
        "#Barchart apply in health dataset\n",
        "data = df['disease'].value_counts()\n",
        "\n",
        "name = data.index\n",
        "count = data.values\n",
        "\n",
        "plt.title(\"Bar diagram\")\n",
        "plt.xlabel('Name')\n",
        "plt.ylabel('Total count')\n",
        "\n",
        "plt.bar(name,count)"
      ]
    },
    {
      "cell_type": "markdown",
      "metadata": {
        "id": "Fuo7V6XbOvCA"
      },
      "source": [
        "###Piechart"
      ]
    },
    {
      "cell_type": "code",
      "execution_count": null,
      "metadata": {
        "colab": {
          "base_uri": "https://localhost:8080/",
          "height": 264
        },
        "id": "_Zb_i0LYOv0I",
        "outputId": "68545623-eb0b-456c-b41e-38d3d1fbafb1"
      },
      "outputs": [
        {
          "output_type": "display_data",
          "data": {
            "text/plain": [
              "<Figure size 432x288 with 1 Axes>"
            ],
            "image/png": "[encoded data removed]"
          },
          "metadata": {}
        }
      ],
      "source": [
        "#Piechart apply in health dataset\n",
        "slices = df['disease'].value_counts()\n",
        "activity = ['MEASLES','POLIO','SMALLPOX','PERTUSSIS','HEPATITIS A','RUBELLA','MUMPS']\n",
        "colors = ['green','blue','fuchsia', 'orange', 'purple', 'lightskyblue', 'red',]\n",
        "\n",
        "plt.pie(slices,\n",
        "        labels=activity,\n",
        "        colors=colors,\n",
        "        startangle=90,\n",
        "        shadow=False,\n",
        "        autopct=\"%1.1f%%\",\n",
        "        radius= 1) \n",
        "\n",
        "plt.title('Scatter plot')\n",
        "plt.show()"
      ]
    },
    {
      "cell_type": "markdown",
      "metadata": {
        "id": "5od4l_EbO2Av"
      },
      "source": [
        "###Boxplot"
      ]
    },
    {
      "cell_type": "code",
      "execution_count": null,
      "metadata": {
        "colab": {
          "base_uri": "https://localhost:8080/",
          "height": 423
        },
        "id": "1MdNx0X8O2wX",
        "outputId": "add1c9a5-4e3a-439a-fab9-720885eb24d4"
      },
      "outputs": [
        {
          "output_type": "execute_result",
          "data": {
            "text/plain": [
              "         disease  increase            loc  number  population  year\n",
              "0        MEASLES    334.99        ALABAMA    8843     2640000  1928\n",
              "1        MEASLES    200.75        ARIZONA     847      422000  1928\n",
              "2        MEASLES    481.77       ARKANSAS    8899     1847000  1928\n",
              "3        MEASLES     69.22     CALIFORNIA    3698     5344000  1928\n",
              "4        MEASLES    206.98       COLORADO    2099     1014000  1928\n",
              "...          ...       ...            ...     ...         ...   ...\n",
              "14260  PERTUSSIS      2.06       VIRGINIA     171     8096604  2011\n",
              "14261  PERTUSSIS     10.68     WASHINGTON     731     6830038  2011\n",
              "14262  PERTUSSIS      1.99  WEST VIRGINIA      37     1855364  2011\n",
              "14263  PERTUSSIS      6.20      WISCONSIN     351     5711767  2011\n",
              "14264  PERTUSSIS      1.25        WYOMING       7      568158  2011\n",
              "\n",
              "[14265 rows x 6 columns]"
            ],
            "text/html": [
              "\n",
              "  <div id=\"df-6d16b2fd-82ac-4f1e-925f-757004e9109d\">\n",
              "    <div class=\"colab-df-container\">\n",
              "      <div>\n",
              "<style scoped>\n",
              "    .dataframe tbody tr th:only-of-type {\n",
              "        vertical-align: middle;\n",
              "    }\n",
              "\n",
              "    .dataframe tbody tr th {\n",
              "        vertical-align: top;\n",
              "    }\n",
              "\n",
              "    .dataframe thead th {\n",
              "        text-align: right;\n",
              "    }\n",
              "</style>\n",
              "<table border=\"1\" class=\"dataframe\">\n",
              "  <thead>\n",
              "    <tr style=\"text-align: right;\">\n",
              "      <th></th>\n",
              "      <th>disease</th>\n",
              "      <th>increase</th>\n",
              "      <th>loc</th>\n",
              "      <th>number</th>\n",
              "      <th>population</th>\n",
              "      <th>year</th>\n",
              "    </tr>\n",
              "  </thead>\n",
              "  <tbody>\n",
              "    <tr>\n",
              "      <th>0</th>\n",
              "      <td>MEASLES</td>\n",
              "      <td>334.99</td>\n",
              "      <td>ALABAMA</td>\n",
              "      <td>8843</td>\n",
              "      <td>2640000</td>\n",
              "      <td>1928</td>\n",
              "    </tr>\n",
              "    <tr>\n",
              "      <th>1</th>\n",
              "      <td>MEASLES</td>\n",
              "      <td>200.75</td>\n",
              "      <td>ARIZONA</td>\n",
              "      <td>847</td>\n",
              "      <td>422000</td>\n",
              "      <td>1928</td>\n",
              "    </tr>\n",
              "    <tr>\n",
              "      <th>2</th>\n",
              "      <td>MEASLES</td>\n",
              "      <td>481.77</td>\n",
              "      <td>ARKANSAS</td>\n",
              "      <td>8899</td>\n",
              "      <td>1847000</td>\n",
              "      <td>1928</td>\n",
              "    </tr>\n",
              "    <tr>\n",
              "      <th>3</th>\n",
              "      <td>MEASLES</td>\n",
              "      <td>69.22</td>\n",
              "      <td>CALIFORNIA</td>\n",
              "      <td>3698</td>\n",
              "      <td>5344000</td>\n",
              "      <td>1928</td>\n",
              "    </tr>\n",
              "    <tr>\n",
              "      <th>4</th>\n",
              "      <td>MEASLES</td>\n",
              "      <td>206.98</td>\n",
              "      <td>COLORADO</td>\n",
              "      <td>2099</td>\n",
              "      <td>1014000</td>\n",
              "      <td>1928</td>\n",
              "    </tr>\n",
              "    <tr>\n",
              "      <th>...</th>\n",
              "      <td>...</td>\n",
              "      <td>...</td>\n",
              "      <td>...</td>\n",
              "      <td>...</td>\n",
              "      <td>...</td>\n",
              "      <td>...</td>\n",
              "    </tr>\n",
              "    <tr>\n",
              "      <th>14260</th>\n",
              "      <td>PERTUSSIS</td>\n",
              "      <td>2.06</td>\n",
              "      <td>VIRGINIA</td>\n",
              "      <td>171</td>\n",
              "      <td>8096604</td>\n",
              "      <td>2011</td>\n",
              "    </tr>\n",
              "    <tr>\n",
              "      <th>14261</th>\n",
              "      <td>PERTUSSIS</td>\n",
              "      <td>10.68</td>\n",
              "      <td>WASHINGTON</td>\n",
              "      <td>731</td>\n",
              "      <td>6830038</td>\n",
              "      <td>2011</td>\n",
              "    </tr>\n",
              "    <tr>\n",
              "      <th>14262</th>\n",
              "      <td>PERTUSSIS</td>\n",
              "      <td>1.99</td>\n",
              "      <td>WEST VIRGINIA</td>\n",
              "      <td>37</td>\n",
              "      <td>1855364</td>\n",
              "      <td>2011</td>\n",
              "    </tr>\n",
              "    <tr>\n",
              "      <th>14263</th>\n",
              "      <td>PERTUSSIS</td>\n",
              "      <td>6.20</td>\n",
              "      <td>WISCONSIN</td>\n",
              "      <td>351</td>\n",
              "      <td>5711767</td>\n",
              "      <td>2011</td>\n",
              "    </tr>\n",
              "    <tr>\n",
              "      <th>14264</th>\n",
              "      <td>PERTUSSIS</td>\n",
              "      <td>1.25</td>\n",
              "      <td>WYOMING</td>\n",
              "      <td>7</td>\n",
              "      <td>568158</td>\n",
              "      <td>2011</td>\n",
              "    </tr>\n",
              "  </tbody>\n",
              "</table>\n",
              "<p>14265 rows × 6 columns</p>\n",
              "</div>\n",
              "      <button class=\"colab-df-convert\" onclick=\"convertToInteractive('df-6d16b2fd-82ac-4f1e-925f-757004e9109d')\"\n",
              "              title=\"Convert this dataframe to an interactive table.\"\n",
              "              style=\"display:none;\">\n",
              "        \n",
              "  <svg xmlns=\"http://www.w3.org/2000/svg\" height=\"24px\"viewBox=\"0 0 24 24\"\n",
              "       width=\"24px\">\n",
              "    <path d=\"M0 0h24v24H0V0z\" fill=\"none\"/>\n",
              "    <path d=\"M18.56 5.44l.94 2.06.94-2.06 2.06-.94-2.06-.94-.94-2.06-.94 2.06-2.06.94zm-11 1L8.5 8.5l.94-2.06 2.06-.94-2.06-.94L8.5 2.5l-.94 2.06-2.06.94zm10 10l.94 2.06.94-2.06 2.06-.94-2.06-.94-.94-2.06-.94 2.06-2.06.94z\"/><path d=\"M17.41 7.96l-1.37-1.37c-.4-.4-.92-.59-1.43-.59-.52 0-1.04.2-1.43.59L10.3 9.45l-7.72 7.72c-.78.78-.78 2.05 0 2.83L4 21.41c.39.39.9.59 1.41.59.51 0 1.02-.2 1.41-.59l7.78-7.78 2.81-2.81c.8-.78.8-2.07 0-2.86zM5.41 20L4 18.59l7.72-7.72 1.47 1.35L5.41 20z\"/>\n",
              "  </svg>\n",
              "      </button>\n",
              "      \n",
              "  <style>\n",
              "    .colab-df-container {\n",
              "      display:flex;\n",
              "      flex-wrap:wrap;\n",
              "      gap: 12px;\n",
              "    }\n",
              "\n",
              "    .colab-df-convert {\n",
              "      background-color: #E8F0FE;\n",
              "      border: none;\n",
              "      border-radius: 50%;\n",
              "      cursor: pointer;\n",
              "      display: none;\n",
              "      fill: #1967D2;\n",
              "      height: 32px;\n",
              "      padding: 0 0 0 0;\n",
              "      width: 32px;\n",
              "    }\n",
              "\n",
              "    .colab-df-convert:hover {\n",
              "      background-color: #E2EBFA;\n",
              "      box-shadow: 0px 1px 2px rgba(60, 64, 67, 0.3), 0px 1px 3px 1px rgba(60, 64, 67, 0.15);\n",
              "      fill: #174EA6;\n",
              "    }\n",
              "\n",
              "    [theme=dark] .colab-df-convert {\n",
              "      background-color: #3B4455;\n",
              "      fill: #D2E3FC;\n",
              "    }\n",
              "\n",
              "    [theme=dark] .colab-df-convert:hover {\n",
              "      background-color: #434B5C;\n",
              "      box-shadow: 0px 1px 3px 1px rgba(0, 0, 0, 0.15);\n",
              "      filter: drop-shadow(0px 1px 2px rgba(0, 0, 0, 0.3));\n",
              "      fill: #FFFFFF;\n",
              "    }\n",
              "  </style>\n",
              "\n",
              "      <script>\n",
              "        const buttonEl =\n",
              "          document.querySelector('#df-6d16b2fd-82ac-4f1e-925f-757004e9109d button.colab-df-convert');\n",
              "        buttonEl.style.display =\n",
              "          google.colab.kernel.accessAllowed ? 'block' : 'none';\n",
              "\n",
              "        async function convertToInteractive(key) {\n",
              "          const element = document.querySelector('#df-6d16b2fd-82ac-4f1e-925f-757004e9109d');\n",
              "          const dataTable =\n",
              "            await google.colab.kernel.invokeFunction('convertToInteractive',\n",
              "                                                     [key], {});\n",
              "          if (!dataTable) return;\n",
              "\n",
              "          const docLinkHtml = 'Like what you see? Visit the ' +\n",
              "            '<a target=\"_blank\" href=https://colab.research.google.com/notebooks/data_table.ipynb>data table notebook</a>'\n",
              "            + ' to learn more about interactive tables.';\n",
              "          element.innerHTML = '';\n",
              "          dataTable['output_type'] = 'display_data';\n",
              "          await google.colab.output.renderOutput(dataTable, element);\n",
              "          const docLink = document.createElement('div');\n",
              "          docLink.innerHTML = docLinkHtml;\n",
              "          element.appendChild(docLink);\n",
              "        }\n",
              "      </script>\n",
              "    </div>\n",
              "  </div>\n",
              "  "
            ]
          },
          "metadata": {},
          "execution_count": 57
        }
      ],
      "source": [
        "df"
      ]
    },
    {
      "cell_type": "code",
      "execution_count": null,
      "metadata": {
        "colab": {
          "base_uri": "https://localhost:8080/",
          "height": 413
        },
        "id": "YTYGnRW-O5tX",
        "outputId": "3ec9788f-43ca-453e-e2d1-f1e34f6fc43b"
      },
      "outputs": [
        {
          "output_type": "stream",
          "name": "stdout",
          "text": [
            "    disease  increase       loc    number  population      year\n",
            "0  0.844400 -0.168041 -1.207630  1.521952    0.414404  2.202068\n",
            "1 -0.573664 -0.772454 -2.025617  0.740208    0.980767  1.376708\n",
            "2 -1.345028  0.758141  0.897915  0.185740    0.485385  0.033715\n",
            "3  0.057577 -0.272532 -0.336259  0.538657   -2.814207  1.870789\n",
            "4 -0.961711 -0.050327 -0.816054  1.869829    0.907340 -1.903902\n"
          ]
        },
        {
          "output_type": "execute_result",
          "data": {
            "text/plain": [
              "<matplotlib.axes._subplots.AxesSubplot at 0x7f6ab33ed810>"
            ]
          },
          "metadata": {},
          "execution_count": 58
        },
        {
          "output_type": "display_data",
          "data": {
            "text/plain": [
              "<Figure size 432x288 with 1 Axes>"
            ],
            "image/png": "[encoded data removed]"
          },
          "metadata": {
            "needs_background": "light"
          }
        }
      ],
      "source": [
        "#Boxplot apply in health dataset\n",
        "\n",
        "dataframe = pd.DataFrame(np.random.randn(6,6), columns=['disease','increase','loc','number','population', 'year'])\n",
        " \n",
        "print(dataframe.head())\n",
        "\n",
        "dataframe.boxplot(grid='false', color='blue',fontsize=10, rot=30 )"
      ]
    },
    {
      "cell_type": "code",
      "execution_count": null,
      "metadata": {
        "colab": {
          "base_uri": "https://localhost:8080/",
          "height": 276
        },
        "id": "N8fCR71ODlK1",
        "outputId": "ad3900c5-e946-4e37-ea7c-7000b84dfe52"
      },
      "outputs": [
        {
          "output_type": "display_data",
          "data": {
            "text/plain": [
              "<Figure size 432x288 with 1 Axes>"
            ],
            "image/png": "[encoded data removed]"
          },
          "metadata": {
            "needs_background": "light"
          }
        }
      ],
      "source": [
        "value1 = df['increase']\n",
        "value2 = df['number']\n",
        "value3 = df['population']\n",
        "value4 = df['year']\n",
        "\n",
        "box_plot_data = [value1,value2,value3,value4]\n",
        "\n",
        "plt.boxplot(box_plot_data,\n",
        "            patch_artist = True,\n",
        "            labels=['increase','number','population','year'])\n",
        "plt.show()"
      ]
    },
    {
      "cell_type": "code",
      "execution_count": null,
      "metadata": {
        "colab": {
          "base_uri": "https://localhost:8080/",
          "height": 320
        },
        "id": "opwBw6yuFUkc",
        "outputId": "0f0bf1c4-b57f-4a3b-cdf8-f156d2e0d7e9"
      },
      "outputs": [
        {
          "output_type": "stream",
          "name": "stderr",
          "text": [
            "/usr/local/lib/python3.7/dist-packages/matplotlib/cbook/__init__.py:1376: VisibleDeprecationWarning: Creating an ndarray from ragged nested sequences (which is a list-or-tuple of lists-or-tuples-or ndarrays with different lengths or shapes) is deprecated. If you meant to do this, you must specify 'dtype=object' when creating the ndarray.\n",
            "  X = np.atleast_1d(X.T if isinstance(X, np.ndarray) else np.asarray(X))\n"
          ]
        },
        {
          "output_type": "display_data",
          "data": {
            "text/plain": [
              "<Figure size 432x288 with 1 Axes>"
            ],
            "image/png": "[encoded data removed]"
          },
          "metadata": {
            "needs_background": "light"
          }
        }
      ],
      "source": [
        "value1 = df['increase'].value_counts()\n",
        "value2 = df['number'].value_counts()\n",
        "value3 = df['population'].value_counts()\n",
        "value4 = df['year'].value_counts()\n",
        "\n",
        "box_plot_data = [value1,value2,value3,value4]\n",
        "\n",
        "plt.boxplot(box_plot_data,\n",
        "            patch_artist = True,\n",
        "            labels=['increase','number','population','year'])\n",
        "plt.show()"
      ]
    },
    {
      "cell_type": "markdown",
      "metadata": {
        "id": "OdgmUfgBWrwa"
      },
      "source": [
        "###Preprocessing"
      ]
    },
    {
      "cell_type": "markdown",
      "metadata": {
        "id": "gdRLgDk7WwO5"
      },
      "source": [
        "###Label Encoding"
      ]
    },
    {
      "cell_type": "code",
      "execution_count": null,
      "metadata": {
        "colab": {
          "base_uri": "https://localhost:8080/",
          "height": 423
        },
        "id": "y_KMpj2sWwp3",
        "outputId": "cf1bd09b-bcae-4e98-aa9c-0e7b054f6283"
      },
      "outputs": [
        {
          "output_type": "execute_result",
          "data": {
            "text/plain": [
              "         disease  increase            loc  number  population  year\n",
              "0        MEASLES    334.99        ALABAMA    8843     2640000  1928\n",
              "1        MEASLES    200.75        ARIZONA     847      422000  1928\n",
              "2        MEASLES    481.77       ARKANSAS    8899     1847000  1928\n",
              "3        MEASLES     69.22     CALIFORNIA    3698     5344000  1928\n",
              "4        MEASLES    206.98       COLORADO    2099     1014000  1928\n",
              "...          ...       ...            ...     ...         ...   ...\n",
              "14260  PERTUSSIS      2.06       VIRGINIA     171     8096604  2011\n",
              "14261  PERTUSSIS     10.68     WASHINGTON     731     6830038  2011\n",
              "14262  PERTUSSIS      1.99  WEST VIRGINIA      37     1855364  2011\n",
              "14263  PERTUSSIS      6.20      WISCONSIN     351     5711767  2011\n",
              "14264  PERTUSSIS      1.25        WYOMING       7      568158  2011\n",
              "\n",
              "[14265 rows x 6 columns]"
            ],
            "text/html": [
              "\n",
              "  <div id=\"df-d8aba8c7-9d8b-4bda-ae7c-d741a54df39e\">\n",
              "    <div class=\"colab-df-container\">\n",
              "      <div>\n",
              "<style scoped>\n",
              "    .dataframe tbody tr th:only-of-type {\n",
              "        vertical-align: middle;\n",
              "    }\n",
              "\n",
              "    .dataframe tbody tr th {\n",
              "        vertical-align: top;\n",
              "    }\n",
              "\n",
              "    .dataframe thead th {\n",
              "        text-align: right;\n",
              "    }\n",
              "</style>\n",
              "<table border=\"1\" class=\"dataframe\">\n",
              "  <thead>\n",
              "    <tr style=\"text-align: right;\">\n",
              "      <th></th>\n",
              "      <th>disease</th>\n",
              "      <th>increase</th>\n",
              "      <th>loc</th>\n",
              "      <th>number</th>\n",
              "      <th>population</th>\n",
              "      <th>year</th>\n",
              "    </tr>\n",
              "  </thead>\n",
              "  <tbody>\n",
              "    <tr>\n",
              "      <th>0</th>\n",
              "      <td>MEASLES</td>\n",
              "      <td>334.99</td>\n",
              "      <td>ALABAMA</td>\n",
              "      <td>8843</td>\n",
              "      <td>2640000</td>\n",
              "      <td>1928</td>\n",
              "    </tr>\n",
              "    <tr>\n",
              "      <th>1</th>\n",
              "      <td>MEASLES</td>\n",
              "      <td>200.75</td>\n",
              "      <td>ARIZONA</td>\n",
              "      <td>847</td>\n",
              "      <td>422000</td>\n",
              "      <td>1928</td>\n",
              "    </tr>\n",
              "    <tr>\n",
              "      <th>2</th>\n",
              "      <td>MEASLES</td>\n",
              "      <td>481.77</td>\n",
              "      <td>ARKANSAS</td>\n",
              "      <td>8899</td>\n",
              "      <td>1847000</td>\n",
              "      <td>1928</td>\n",
              "    </tr>\n",
              "    <tr>\n",
              "      <th>3</th>\n",
              "      <td>MEASLES</td>\n",
              "      <td>69.22</td>\n",
              "      <td>CALIFORNIA</td>\n",
              "      <td>3698</td>\n",
              "      <td>5344000</td>\n",
              "      <td>1928</td>\n",
              "    </tr>\n",
              "    <tr>\n",
              "      <th>4</th>\n",
              "      <td>MEASLES</td>\n",
              "      <td>206.98</td>\n",
              "      <td>COLORADO</td>\n",
              "      <td>2099</td>\n",
              "      <td>1014000</td>\n",
              "      <td>1928</td>\n",
              "    </tr>\n",
              "    <tr>\n",
              "      <th>...</th>\n",
              "      <td>...</td>\n",
              "      <td>...</td>\n",
              "      <td>...</td>\n",
              "      <td>...</td>\n",
              "      <td>...</td>\n",
              "      <td>...</td>\n",
              "    </tr>\n",
              "    <tr>\n",
              "      <th>14260</th>\n",
              "      <td>PERTUSSIS</td>\n",
              "      <td>2.06</td>\n",
              "      <td>VIRGINIA</td>\n",
              "      <td>171</td>\n",
              "      <td>8096604</td>\n",
              "      <td>2011</td>\n",
              "    </tr>\n",
              "    <tr>\n",
              "      <th>14261</th>\n",
              "      <td>PERTUSSIS</td>\n",
              "      <td>10.68</td>\n",
              "      <td>WASHINGTON</td>\n",
              "      <td>731</td>\n",
              "      <td>6830038</td>\n",
              "      <td>2011</td>\n",
              "    </tr>\n",
              "    <tr>\n",
              "      <th>14262</th>\n",
              "      <td>PERTUSSIS</td>\n",
              "      <td>1.99</td>\n",
              "      <td>WEST VIRGINIA</td>\n",
              "      <td>37</td>\n",
              "      <td>1855364</td>\n",
              "      <td>2011</td>\n",
              "    </tr>\n",
              "    <tr>\n",
              "      <th>14263</th>\n",
              "      <td>PERTUSSIS</td>\n",
              "      <td>6.20</td>\n",
              "      <td>WISCONSIN</td>\n",
              "      <td>351</td>\n",
              "      <td>5711767</td>\n",
              "      <td>2011</td>\n",
              "    </tr>\n",
              "    <tr>\n",
              "      <th>14264</th>\n",
              "      <td>PERTUSSIS</td>\n",
              "      <td>1.25</td>\n",
              "      <td>WYOMING</td>\n",
              "      <td>7</td>\n",
              "      <td>568158</td>\n",
              "      <td>2011</td>\n",
              "    </tr>\n",
              "  </tbody>\n",
              "</table>\n",
              "<p>14265 rows × 6 columns</p>\n",
              "</div>\n",
              "      <button class=\"colab-df-convert\" onclick=\"convertToInteractive('df-d8aba8c7-9d8b-4bda-ae7c-d741a54df39e')\"\n",
              "              title=\"Convert this dataframe to an interactive table.\"\n",
              "              style=\"display:none;\">\n",
              "        \n",
              "  <svg xmlns=\"http://www.w3.org/2000/svg\" height=\"24px\"viewBox=\"0 0 24 24\"\n",
              "       width=\"24px\">\n",
              "    <path d=\"M0 0h24v24H0V0z\" fill=\"none\"/>\n",
              "    <path d=\"M18.56 5.44l.94 2.06.94-2.06 2.06-.94-2.06-.94-.94-2.06-.94 2.06-2.06.94zm-11 1L8.5 8.5l.94-2.06 2.06-.94-2.06-.94L8.5 2.5l-.94 2.06-2.06.94zm10 10l.94 2.06.94-2.06 2.06-.94-2.06-.94-.94-2.06-.94 2.06-2.06.94z\"/><path d=\"M17.41 7.96l-1.37-1.37c-.4-.4-.92-.59-1.43-.59-.52 0-1.04.2-1.43.59L10.3 9.45l-7.72 7.72c-.78.78-.78 2.05 0 2.83L4 21.41c.39.39.9.59 1.41.59.51 0 1.02-.2 1.41-.59l7.78-7.78 2.81-2.81c.8-.78.8-2.07 0-2.86zM5.41 20L4 18.59l7.72-7.72 1.47 1.35L5.41 20z\"/>\n",
              "  </svg>\n",
              "      </button>\n",
              "      \n",
              "  <style>\n",
              "    .colab-df-container {\n",
              "      display:flex;\n",
              "      flex-wrap:wrap;\n",
              "      gap: 12px;\n",
              "    }\n",
              "\n",
              "    .colab-df-convert {\n",
              "      background-color: #E8F0FE;\n",
              "      border: none;\n",
              "      border-radius: 50%;\n",
              "      cursor: pointer;\n",
              "      display: none;\n",
              "      fill: #1967D2;\n",
              "      height: 32px;\n",
              "      padding: 0 0 0 0;\n",
              "      width: 32px;\n",
              "    }\n",
              "\n",
              "    .colab-df-convert:hover {\n",
              "      background-color: #E2EBFA;\n",
              "      box-shadow: 0px 1px 2px rgba(60, 64, 67, 0.3), 0px 1px 3px 1px rgba(60, 64, 67, 0.15);\n",
              "      fill: #174EA6;\n",
              "    }\n",
              "\n",
              "    [theme=dark] .colab-df-convert {\n",
              "      background-color: #3B4455;\n",
              "      fill: #D2E3FC;\n",
              "    }\n",
              "\n",
              "    [theme=dark] .colab-df-convert:hover {\n",
              "      background-color: #434B5C;\n",
              "      box-shadow: 0px 1px 3px 1px rgba(0, 0, 0, 0.15);\n",
              "      filter: drop-shadow(0px 1px 2px rgba(0, 0, 0, 0.3));\n",
              "      fill: #FFFFFF;\n",
              "    }\n",
              "  </style>\n",
              "\n",
              "      <script>\n",
              "        const buttonEl =\n",
              "          document.querySelector('#df-d8aba8c7-9d8b-4bda-ae7c-d741a54df39e button.colab-df-convert');\n",
              "        buttonEl.style.display =\n",
              "          google.colab.kernel.accessAllowed ? 'block' : 'none';\n",
              "\n",
              "        async function convertToInteractive(key) {\n",
              "          const element = document.querySelector('#df-d8aba8c7-9d8b-4bda-ae7c-d741a54df39e');\n",
              "          const dataTable =\n",
              "            await google.colab.kernel.invokeFunction('convertToInteractive',\n",
              "                                                     [key], {});\n",
              "          if (!dataTable) return;\n",
              "\n",
              "          const docLinkHtml = 'Like what you see? Visit the ' +\n",
              "            '<a target=\"_blank\" href=https://colab.research.google.com/notebooks/data_table.ipynb>data table notebook</a>'\n",
              "            + ' to learn more about interactive tables.';\n",
              "          element.innerHTML = '';\n",
              "          dataTable['output_type'] = 'display_data';\n",
              "          await google.colab.output.renderOutput(dataTable, element);\n",
              "          const docLink = document.createElement('div');\n",
              "          docLink.innerHTML = docLinkHtml;\n",
              "          element.appendChild(docLink);\n",
              "        }\n",
              "      </script>\n",
              "    </div>\n",
              "  </div>\n",
              "  "
            ]
          },
          "metadata": {},
          "execution_count": 61
        }
      ],
      "source": [
        "df"
      ]
    },
    {
      "cell_type": "code",
      "execution_count": null,
      "metadata": {
        "id": "yGUoexriWsPu"
      },
      "outputs": [],
      "source": [
        "from sklearn.preprocessing import LabelEncoder"
      ]
    },
    {
      "cell_type": "code",
      "execution_count": null,
      "metadata": {
        "colab": {
          "base_uri": "https://localhost:8080/",
          "height": 206
        },
        "id": "iJMp1ticW25o",
        "outputId": "10be1a19-3512-4b39-a0cb-c97f0ad158dd"
      },
      "outputs": [
        {
          "output_type": "execute_result",
          "data": {
            "text/plain": [
              "   disease  increase         loc  number  population  year\n",
              "0        1    334.99     ALABAMA    8843     2640000  1928\n",
              "1        1    200.75     ARIZONA     847      422000  1928\n",
              "2        1    481.77    ARKANSAS    8899     1847000  1928\n",
              "3        1     69.22  CALIFORNIA    3698     5344000  1928\n",
              "4        1    206.98    COLORADO    2099     1014000  1928"
            ],
            "text/html": [
              "\n",
              "  <div id=\"df-06283555-13ca-42e7-8399-fb49fce9d4e0\">\n",
              "    <div class=\"colab-df-container\">\n",
              "      <div>\n",
              "<style scoped>\n",
              "    .dataframe tbody tr th:only-of-type {\n",
              "        vertical-align: middle;\n",
              "    }\n",
              "\n",
              "    .dataframe tbody tr th {\n",
              "        vertical-align: top;\n",
              "    }\n",
              "\n",
              "    .dataframe thead th {\n",
              "        text-align: right;\n",
              "    }\n",
              "</style>\n",
              "<table border=\"1\" class=\"dataframe\">\n",
              "  <thead>\n",
              "    <tr style=\"text-align: right;\">\n",
              "      <th></th>\n",
              "      <th>disease</th>\n",
              "      <th>increase</th>\n",
              "      <th>loc</th>\n",
              "      <th>number</th>\n",
              "      <th>population</th>\n",
              "      <th>year</th>\n",
              "    </tr>\n",
              "  </thead>\n",
              "  <tbody>\n",
              "    <tr>\n",
              "      <th>0</th>\n",
              "      <td>1</td>\n",
              "      <td>334.99</td>\n",
              "      <td>ALABAMA</td>\n",
              "      <td>8843</td>\n",
              "      <td>2640000</td>\n",
              "      <td>1928</td>\n",
              "    </tr>\n",
              "    <tr>\n",
              "      <th>1</th>\n",
              "      <td>1</td>\n",
              "      <td>200.75</td>\n",
              "      <td>ARIZONA</td>\n",
              "      <td>847</td>\n",
              "      <td>422000</td>\n",
              "      <td>1928</td>\n",
              "    </tr>\n",
              "    <tr>\n",
              "      <th>2</th>\n",
              "      <td>1</td>\n",
              "      <td>481.77</td>\n",
              "      <td>ARKANSAS</td>\n",
              "      <td>8899</td>\n",
              "      <td>1847000</td>\n",
              "      <td>1928</td>\n",
              "    </tr>\n",
              "    <tr>\n",
              "      <th>3</th>\n",
              "      <td>1</td>\n",
              "      <td>69.22</td>\n",
              "      <td>CALIFORNIA</td>\n",
              "      <td>3698</td>\n",
              "      <td>5344000</td>\n",
              "      <td>1928</td>\n",
              "    </tr>\n",
              "    <tr>\n",
              "      <th>4</th>\n",
              "      <td>1</td>\n",
              "      <td>206.98</td>\n",
              "      <td>COLORADO</td>\n",
              "      <td>2099</td>\n",
              "      <td>1014000</td>\n",
              "      <td>1928</td>\n",
              "    </tr>\n",
              "  </tbody>\n",
              "</table>\n",
              "</div>\n",
              "      <button class=\"colab-df-convert\" onclick=\"convertToInteractive('df-06283555-13ca-42e7-8399-fb49fce9d4e0')\"\n",
              "              title=\"Convert this dataframe to an interactive table.\"\n",
              "              style=\"display:none;\">\n",
              "        \n",
              "  <svg xmlns=\"http://www.w3.org/2000/svg\" height=\"24px\"viewBox=\"0 0 24 24\"\n",
              "       width=\"24px\">\n",
              "    <path d=\"M0 0h24v24H0V0z\" fill=\"none\"/>\n",
              "    <path d=\"M18.56 5.44l.94 2.06.94-2.06 2.06-.94-2.06-.94-.94-2.06-.94 2.06-2.06.94zm-11 1L8.5 8.5l.94-2.06 2.06-.94-2.06-.94L8.5 2.5l-.94 2.06-2.06.94zm10 10l.94 2.06.94-2.06 2.06-.94-2.06-.94-.94-2.06-.94 2.06-2.06.94z\"/><path d=\"M17.41 7.96l-1.37-1.37c-.4-.4-.92-.59-1.43-.59-.52 0-1.04.2-1.43.59L10.3 9.45l-7.72 7.72c-.78.78-.78 2.05 0 2.83L4 21.41c.39.39.9.59 1.41.59.51 0 1.02-.2 1.41-.59l7.78-7.78 2.81-2.81c.8-.78.8-2.07 0-2.86zM5.41 20L4 18.59l7.72-7.72 1.47 1.35L5.41 20z\"/>\n",
              "  </svg>\n",
              "      </button>\n",
              "      \n",
              "  <style>\n",
              "    .colab-df-container {\n",
              "      display:flex;\n",
              "      flex-wrap:wrap;\n",
              "      gap: 12px;\n",
              "    }\n",
              "\n",
              "    .colab-df-convert {\n",
              "      background-color: #E8F0FE;\n",
              "      border: none;\n",
              "      border-radius: 50%;\n",
              "      cursor: pointer;\n",
              "      display: none;\n",
              "      fill: #1967D2;\n",
              "      height: 32px;\n",
              "      padding: 0 0 0 0;\n",
              "      width: 32px;\n",
              "    }\n",
              "\n",
              "    .colab-df-convert:hover {\n",
              "      background-color: #E2EBFA;\n",
              "      box-shadow: 0px 1px 2px rgba(60, 64, 67, 0.3), 0px 1px 3px 1px rgba(60, 64, 67, 0.15);\n",
              "      fill: #174EA6;\n",
              "    }\n",
              "\n",
              "    [theme=dark] .colab-df-convert {\n",
              "      background-color: #3B4455;\n",
              "      fill: #D2E3FC;\n",
              "    }\n",
              "\n",
              "    [theme=dark] .colab-df-convert:hover {\n",
              "      background-color: #434B5C;\n",
              "      box-shadow: 0px 1px 3px 1px rgba(0, 0, 0, 0.15);\n",
              "      filter: drop-shadow(0px 1px 2px rgba(0, 0, 0, 0.3));\n",
              "      fill: #FFFFFF;\n",
              "    }\n",
              "  </style>\n",
              "\n",
              "      <script>\n",
              "        const buttonEl =\n",
              "          document.querySelector('#df-06283555-13ca-42e7-8399-fb49fce9d4e0 button.colab-df-convert');\n",
              "        buttonEl.style.display =\n",
              "          google.colab.kernel.accessAllowed ? 'block' : 'none';\n",
              "\n",
              "        async function convertToInteractive(key) {\n",
              "          const element = document.querySelector('#df-06283555-13ca-42e7-8399-fb49fce9d4e0');\n",
              "          const dataTable =\n",
              "            await google.colab.kernel.invokeFunction('convertToInteractive',\n",
              "                                                     [key], {});\n",
              "          if (!dataTable) return;\n",
              "\n",
              "          const docLinkHtml = 'Like what you see? Visit the ' +\n",
              "            '<a target=\"_blank\" href=https://colab.research.google.com/notebooks/data_table.ipynb>data table notebook</a>'\n",
              "            + ' to learn more about interactive tables.';\n",
              "          element.innerHTML = '';\n",
              "          dataTable['output_type'] = 'display_data';\n",
              "          await google.colab.output.renderOutput(dataTable, element);\n",
              "          const docLink = document.createElement('div');\n",
              "          docLink.innerHTML = docLinkHtml;\n",
              "          element.appendChild(docLink);\n",
              "        }\n",
              "      </script>\n",
              "    </div>\n",
              "  </div>\n",
              "  "
            ]
          },
          "metadata": {},
          "execution_count": 63
        }
      ],
      "source": [
        "l = LabelEncoder()\n",
        "df['disease'] = l.fit_transform(df.disease)\n",
        "df.head()"
      ]
    },
    {
      "cell_type": "code",
      "execution_count": null,
      "metadata": {
        "colab": {
          "base_uri": "https://localhost:8080/",
          "height": 423
        },
        "id": "xFxLXILTW5J6",
        "outputId": "1b09361b-7cc9-4006-d3f5-dc514c4f6db1"
      },
      "outputs": [
        {
          "output_type": "execute_result",
          "data": {
            "text/plain": [
              "       disease  increase            loc  number  population  year\n",
              "0            1    334.99        ALABAMA    8843     2640000  1928\n",
              "1            1    200.75        ARIZONA     847      422000  1928\n",
              "2            1    481.77       ARKANSAS    8899     1847000  1928\n",
              "3            1     69.22     CALIFORNIA    3698     5344000  1928\n",
              "4            1    206.98       COLORADO    2099     1014000  1928\n",
              "...        ...       ...            ...     ...         ...   ...\n",
              "14260        3      2.06       VIRGINIA     171     8096604  2011\n",
              "14261        3     10.68     WASHINGTON     731     6830038  2011\n",
              "14262        3      1.99  WEST VIRGINIA      37     1855364  2011\n",
              "14263        3      6.20      WISCONSIN     351     5711767  2011\n",
              "14264        3      1.25        WYOMING       7      568158  2011\n",
              "\n",
              "[14265 rows x 6 columns]"
            ],
            "text/html": [
              "\n",
              "  <div id=\"df-001e8433-e070-46dc-a876-815c39230adc\">\n",
              "    <div class=\"colab-df-container\">\n",
              "      <div>\n",
              "<style scoped>\n",
              "    .dataframe tbody tr th:only-of-type {\n",
              "        vertical-align: middle;\n",
              "    }\n",
              "\n",
              "    .dataframe tbody tr th {\n",
              "        vertical-align: top;\n",
              "    }\n",
              "\n",
              "    .dataframe thead th {\n",
              "        text-align: right;\n",
              "    }\n",
              "</style>\n",
              "<table border=\"1\" class=\"dataframe\">\n",
              "  <thead>\n",
              "    <tr style=\"text-align: right;\">\n",
              "      <th></th>\n",
              "      <th>disease</th>\n",
              "      <th>increase</th>\n",
              "      <th>loc</th>\n",
              "      <th>number</th>\n",
              "      <th>population</th>\n",
              "      <th>year</th>\n",
              "    </tr>\n",
              "  </thead>\n",
              "  <tbody>\n",
              "    <tr>\n",
              "      <th>0</th>\n",
              "      <td>1</td>\n",
              "      <td>334.99</td>\n",
              "      <td>ALABAMA</td>\n",
              "      <td>8843</td>\n",
              "      <td>2640000</td>\n",
              "      <td>1928</td>\n",
              "    </tr>\n",
              "    <tr>\n",
              "      <th>1</th>\n",
              "      <td>1</td>\n",
              "      <td>200.75</td>\n",
              "      <td>ARIZONA</td>\n",
              "      <td>847</td>\n",
              "      <td>422000</td>\n",
              "      <td>1928</td>\n",
              "    </tr>\n",
              "    <tr>\n",
              "      <th>2</th>\n",
              "      <td>1</td>\n",
              "      <td>481.77</td>\n",
              "      <td>ARKANSAS</td>\n",
              "      <td>8899</td>\n",
              "      <td>1847000</td>\n",
              "      <td>1928</td>\n",
              "    </tr>\n",
              "    <tr>\n",
              "      <th>3</th>\n",
              "      <td>1</td>\n",
              "      <td>69.22</td>\n",
              "      <td>CALIFORNIA</td>\n",
              "      <td>3698</td>\n",
              "      <td>5344000</td>\n",
              "      <td>1928</td>\n",
              "    </tr>\n",
              "    <tr>\n",
              "      <th>4</th>\n",
              "      <td>1</td>\n",
              "      <td>206.98</td>\n",
              "      <td>COLORADO</td>\n",
              "      <td>2099</td>\n",
              "      <td>1014000</td>\n",
              "      <td>1928</td>\n",
              "    </tr>\n",
              "    <tr>\n",
              "      <th>...</th>\n",
              "      <td>...</td>\n",
              "      <td>...</td>\n",
              "      <td>...</td>\n",
              "      <td>...</td>\n",
              "      <td>...</td>\n",
              "      <td>...</td>\n",
              "    </tr>\n",
              "    <tr>\n",
              "      <th>14260</th>\n",
              "      <td>3</td>\n",
              "      <td>2.06</td>\n",
              "      <td>VIRGINIA</td>\n",
              "      <td>171</td>\n",
              "      <td>8096604</td>\n",
              "      <td>2011</td>\n",
              "    </tr>\n",
              "    <tr>\n",
              "      <th>14261</th>\n",
              "      <td>3</td>\n",
              "      <td>10.68</td>\n",
              "      <td>WASHINGTON</td>\n",
              "      <td>731</td>\n",
              "      <td>6830038</td>\n",
              "      <td>2011</td>\n",
              "    </tr>\n",
              "    <tr>\n",
              "      <th>14262</th>\n",
              "      <td>3</td>\n",
              "      <td>1.99</td>\n",
              "      <td>WEST VIRGINIA</td>\n",
              "      <td>37</td>\n",
              "      <td>1855364</td>\n",
              "      <td>2011</td>\n",
              "    </tr>\n",
              "    <tr>\n",
              "      <th>14263</th>\n",
              "      <td>3</td>\n",
              "      <td>6.20</td>\n",
              "      <td>WISCONSIN</td>\n",
              "      <td>351</td>\n",
              "      <td>5711767</td>\n",
              "      <td>2011</td>\n",
              "    </tr>\n",
              "    <tr>\n",
              "      <th>14264</th>\n",
              "      <td>3</td>\n",
              "      <td>1.25</td>\n",
              "      <td>WYOMING</td>\n",
              "      <td>7</td>\n",
              "      <td>568158</td>\n",
              "      <td>2011</td>\n",
              "    </tr>\n",
              "  </tbody>\n",
              "</table>\n",
              "<p>14265 rows × 6 columns</p>\n",
              "</div>\n",
              "      <button class=\"colab-df-convert\" onclick=\"convertToInteractive('df-001e8433-e070-46dc-a876-815c39230adc')\"\n",
              "              title=\"Convert this dataframe to an interactive table.\"\n",
              "              style=\"display:none;\">\n",
              "        \n",
              "  <svg xmlns=\"http://www.w3.org/2000/svg\" height=\"24px\"viewBox=\"0 0 24 24\"\n",
              "       width=\"24px\">\n",
              "    <path d=\"M0 0h24v24H0V0z\" fill=\"none\"/>\n",
              "    <path d=\"M18.56 5.44l.94 2.06.94-2.06 2.06-.94-2.06-.94-.94-2.06-.94 2.06-2.06.94zm-11 1L8.5 8.5l.94-2.06 2.06-.94-2.06-.94L8.5 2.5l-.94 2.06-2.06.94zm10 10l.94 2.06.94-2.06 2.06-.94-2.06-.94-.94-2.06-.94 2.06-2.06.94z\"/><path d=\"M17.41 7.96l-1.37-1.37c-.4-.4-.92-.59-1.43-.59-.52 0-1.04.2-1.43.59L10.3 9.45l-7.72 7.72c-.78.78-.78 2.05 0 2.83L4 21.41c.39.39.9.59 1.41.59.51 0 1.02-.2 1.41-.59l7.78-7.78 2.81-2.81c.8-.78.8-2.07 0-2.86zM5.41 20L4 18.59l7.72-7.72 1.47 1.35L5.41 20z\"/>\n",
              "  </svg>\n",
              "      </button>\n",
              "      \n",
              "  <style>\n",
              "    .colab-df-container {\n",
              "      display:flex;\n",
              "      flex-wrap:wrap;\n",
              "      gap: 12px;\n",
              "    }\n",
              "\n",
              "    .colab-df-convert {\n",
              "      background-color: #E8F0FE;\n",
              "      border: none;\n",
              "      border-radius: 50%;\n",
              "      cursor: pointer;\n",
              "      display: none;\n",
              "      fill: #1967D2;\n",
              "      height: 32px;\n",
              "      padding: 0 0 0 0;\n",
              "      width: 32px;\n",
              "    }\n",
              "\n",
              "    .colab-df-convert:hover {\n",
              "      background-color: #E2EBFA;\n",
              "      box-shadow: 0px 1px 2px rgba(60, 64, 67, 0.3), 0px 1px 3px 1px rgba(60, 64, 67, 0.15);\n",
              "      fill: #174EA6;\n",
              "    }\n",
              "\n",
              "    [theme=dark] .colab-df-convert {\n",
              "      background-color: #3B4455;\n",
              "      fill: #D2E3FC;\n",
              "    }\n",
              "\n",
              "    [theme=dark] .colab-df-convert:hover {\n",
              "      background-color: #434B5C;\n",
              "      box-shadow: 0px 1px 3px 1px rgba(0, 0, 0, 0.15);\n",
              "      filter: drop-shadow(0px 1px 2px rgba(0, 0, 0, 0.3));\n",
              "      fill: #FFFFFF;\n",
              "    }\n",
              "  </style>\n",
              "\n",
              "      <script>\n",
              "        const buttonEl =\n",
              "          document.querySelector('#df-001e8433-e070-46dc-a876-815c39230adc button.colab-df-convert');\n",
              "        buttonEl.style.display =\n",
              "          google.colab.kernel.accessAllowed ? 'block' : 'none';\n",
              "\n",
              "        async function convertToInteractive(key) {\n",
              "          const element = document.querySelector('#df-001e8433-e070-46dc-a876-815c39230adc');\n",
              "          const dataTable =\n",
              "            await google.colab.kernel.invokeFunction('convertToInteractive',\n",
              "                                                     [key], {});\n",
              "          if (!dataTable) return;\n",
              "\n",
              "          const docLinkHtml = 'Like what you see? Visit the ' +\n",
              "            '<a target=\"_blank\" href=https://colab.research.google.com/notebooks/data_table.ipynb>data table notebook</a>'\n",
              "            + ' to learn more about interactive tables.';\n",
              "          element.innerHTML = '';\n",
              "          dataTable['output_type'] = 'display_data';\n",
              "          await google.colab.output.renderOutput(dataTable, element);\n",
              "          const docLink = document.createElement('div');\n",
              "          docLink.innerHTML = docLinkHtml;\n",
              "          element.appendChild(docLink);\n",
              "        }\n",
              "      </script>\n",
              "    </div>\n",
              "  </div>\n",
              "  "
            ]
          },
          "metadata": {},
          "execution_count": 64
        }
      ],
      "source": [
        "df"
      ]
    },
    {
      "cell_type": "code",
      "execution_count": null,
      "metadata": {
        "id": "sM15JjlKW8GB"
      },
      "outputs": [],
      "source": [
        "df['loc'] = l.fit_transform(df['loc'])"
      ]
    },
    {
      "cell_type": "code",
      "execution_count": null,
      "metadata": {
        "colab": {
          "base_uri": "https://localhost:8080/",
          "height": 423
        },
        "id": "QFODKipxW_45",
        "outputId": "efb70a54-f0db-49d1-e58c-8af74465ae70"
      },
      "outputs": [
        {
          "output_type": "execute_result",
          "data": {
            "text/plain": [
              "       disease  increase  loc  number  population  year\n",
              "0            1    334.99    0    8843     2640000  1928\n",
              "1            1    200.75    2     847      422000  1928\n",
              "2            1    481.77    3    8899     1847000  1928\n",
              "3            1     69.22    4    3698     5344000  1928\n",
              "4            1    206.98    5    2099     1014000  1928\n",
              "...        ...       ...  ...     ...         ...   ...\n",
              "14260        3      2.06   46     171     8096604  2011\n",
              "14261        3     10.68   47     731     6830038  2011\n",
              "14262        3      1.99   48      37     1855364  2011\n",
              "14263        3      6.20   49     351     5711767  2011\n",
              "14264        3      1.25   50       7      568158  2011\n",
              "\n",
              "[14265 rows x 6 columns]"
            ],
            "text/html": [
              "\n",
              "  <div id=\"df-834cb2bf-1ca0-4c65-ba2b-b72c6cb4e2ca\">\n",
              "    <div class=\"colab-df-container\">\n",
              "      <div>\n",
              "<style scoped>\n",
              "    .dataframe tbody tr th:only-of-type {\n",
              "        vertical-align: middle;\n",
              "    }\n",
              "\n",
              "    .dataframe tbody tr th {\n",
              "        vertical-align: top;\n",
              "    }\n",
              "\n",
              "    .dataframe thead th {\n",
              "        text-align: right;\n",
              "    }\n",
              "</style>\n",
              "<table border=\"1\" class=\"dataframe\">\n",
              "  <thead>\n",
              "    <tr style=\"text-align: right;\">\n",
              "      <th></th>\n",
              "      <th>disease</th>\n",
              "      <th>increase</th>\n",
              "      <th>loc</th>\n",
              "      <th>number</th>\n",
              "      <th>population</th>\n",
              "      <th>year</th>\n",
              "    </tr>\n",
              "  </thead>\n",
              "  <tbody>\n",
              "    <tr>\n",
              "      <th>0</th>\n",
              "      <td>1</td>\n",
              "      <td>334.99</td>\n",
              "      <td>0</td>\n",
              "      <td>8843</td>\n",
              "      <td>2640000</td>\n",
              "      <td>1928</td>\n",
              "    </tr>\n",
              "    <tr>\n",
              "      <th>1</th>\n",
              "      <td>1</td>\n",
              "      <td>200.75</td>\n",
              "      <td>2</td>\n",
              "      <td>847</td>\n",
              "      <td>422000</td>\n",
              "      <td>1928</td>\n",
              "    </tr>\n",
              "    <tr>\n",
              "      <th>2</th>\n",
              "      <td>1</td>\n",
              "      <td>481.77</td>\n",
              "      <td>3</td>\n",
              "      <td>8899</td>\n",
              "      <td>1847000</td>\n",
              "      <td>1928</td>\n",
              "    </tr>\n",
              "    <tr>\n",
              "      <th>3</th>\n",
              "      <td>1</td>\n",
              "      <td>69.22</td>\n",
              "      <td>4</td>\n",
              "      <td>3698</td>\n",
              "      <td>5344000</td>\n",
              "      <td>1928</td>\n",
              "    </tr>\n",
              "    <tr>\n",
              "      <th>4</th>\n",
              "      <td>1</td>\n",
              "      <td>206.98</td>\n",
              "      <td>5</td>\n",
              "      <td>2099</td>\n",
              "      <td>1014000</td>\n",
              "      <td>1928</td>\n",
              "    </tr>\n",
              "    <tr>\n",
              "      <th>...</th>\n",
              "      <td>...</td>\n",
              "      <td>...</td>\n",
              "      <td>...</td>\n",
              "      <td>...</td>\n",
              "      <td>...</td>\n",
              "      <td>...</td>\n",
              "    </tr>\n",
              "    <tr>\n",
              "      <th>14260</th>\n",
              "      <td>3</td>\n",
              "      <td>2.06</td>\n",
              "      <td>46</td>\n",
              "      <td>171</td>\n",
              "      <td>8096604</td>\n",
              "      <td>2011</td>\n",
              "    </tr>\n",
              "    <tr>\n",
              "      <th>14261</th>\n",
              "      <td>3</td>\n",
              "      <td>10.68</td>\n",
              "      <td>47</td>\n",
              "      <td>731</td>\n",
              "      <td>6830038</td>\n",
              "      <td>2011</td>\n",
              "    </tr>\n",
              "    <tr>\n",
              "      <th>14262</th>\n",
              "      <td>3</td>\n",
              "      <td>1.99</td>\n",
              "      <td>48</td>\n",
              "      <td>37</td>\n",
              "      <td>1855364</td>\n",
              "      <td>2011</td>\n",
              "    </tr>\n",
              "    <tr>\n",
              "      <th>14263</th>\n",
              "      <td>3</td>\n",
              "      <td>6.20</td>\n",
              "      <td>49</td>\n",
              "      <td>351</td>\n",
              "      <td>5711767</td>\n",
              "      <td>2011</td>\n",
              "    </tr>\n",
              "    <tr>\n",
              "      <th>14264</th>\n",
              "      <td>3</td>\n",
              "      <td>1.25</td>\n",
              "      <td>50</td>\n",
              "      <td>7</td>\n",
              "      <td>568158</td>\n",
              "      <td>2011</td>\n",
              "    </tr>\n",
              "  </tbody>\n",
              "</table>\n",
              "<p>14265 rows × 6 columns</p>\n",
              "</div>\n",
              "      <button class=\"colab-df-convert\" onclick=\"convertToInteractive('df-834cb2bf-1ca0-4c65-ba2b-b72c6cb4e2ca')\"\n",
              "              title=\"Convert this dataframe to an interactive table.\"\n",
              "              style=\"display:none;\">\n",
              "        \n",
              "  <svg xmlns=\"http://www.w3.org/2000/svg\" height=\"24px\"viewBox=\"0 0 24 24\"\n",
              "       width=\"24px\">\n",
              "    <path d=\"M0 0h24v24H0V0z\" fill=\"none\"/>\n",
              "    <path d=\"M18.56 5.44l.94 2.06.94-2.06 2.06-.94-2.06-.94-.94-2.06-.94 2.06-2.06.94zm-11 1L8.5 8.5l.94-2.06 2.06-.94-2.06-.94L8.5 2.5l-.94 2.06-2.06.94zm10 10l.94 2.06.94-2.06 2.06-.94-2.06-.94-.94-2.06-.94 2.06-2.06.94z\"/><path d=\"M17.41 7.96l-1.37-1.37c-.4-.4-.92-.59-1.43-.59-.52 0-1.04.2-1.43.59L10.3 9.45l-7.72 7.72c-.78.78-.78 2.05 0 2.83L4 21.41c.39.39.9.59 1.41.59.51 0 1.02-.2 1.41-.59l7.78-7.78 2.81-2.81c.8-.78.8-2.07 0-2.86zM5.41 20L4 18.59l7.72-7.72 1.47 1.35L5.41 20z\"/>\n",
              "  </svg>\n",
              "      </button>\n",
              "      \n",
              "  <style>\n",
              "    .colab-df-container {\n",
              "      display:flex;\n",
              "      flex-wrap:wrap;\n",
              "      gap: 12px;\n",
              "    }\n",
              "\n",
              "    .colab-df-convert {\n",
              "      background-color: #E8F0FE;\n",
              "      border: none;\n",
              "      border-radius: 50%;\n",
              "      cursor: pointer;\n",
              "      display: none;\n",
              "      fill: #1967D2;\n",
              "      height: 32px;\n",
              "      padding: 0 0 0 0;\n",
              "      width: 32px;\n",
              "    }\n",
              "\n",
              "    .colab-df-convert:hover {\n",
              "      background-color: #E2EBFA;\n",
              "      box-shadow: 0px 1px 2px rgba(60, 64, 67, 0.3), 0px 1px 3px 1px rgba(60, 64, 67, 0.15);\n",
              "      fill: #174EA6;\n",
              "    }\n",
              "\n",
              "    [theme=dark] .colab-df-convert {\n",
              "      background-color: #3B4455;\n",
              "      fill: #D2E3FC;\n",
              "    }\n",
              "\n",
              "    [theme=dark] .colab-df-convert:hover {\n",
              "      background-color: #434B5C;\n",
              "      box-shadow: 0px 1px 3px 1px rgba(0, 0, 0, 0.15);\n",
              "      filter: drop-shadow(0px 1px 2px rgba(0, 0, 0, 0.3));\n",
              "      fill: #FFFFFF;\n",
              "    }\n",
              "  </style>\n",
              "\n",
              "      <script>\n",
              "        const buttonEl =\n",
              "          document.querySelector('#df-834cb2bf-1ca0-4c65-ba2b-b72c6cb4e2ca button.colab-df-convert');\n",
              "        buttonEl.style.display =\n",
              "          google.colab.kernel.accessAllowed ? 'block' : 'none';\n",
              "\n",
              "        async function convertToInteractive(key) {\n",
              "          const element = document.querySelector('#df-834cb2bf-1ca0-4c65-ba2b-b72c6cb4e2ca');\n",
              "          const dataTable =\n",
              "            await google.colab.kernel.invokeFunction('convertToInteractive',\n",
              "                                                     [key], {});\n",
              "          if (!dataTable) return;\n",
              "\n",
              "          const docLinkHtml = 'Like what you see? Visit the ' +\n",
              "            '<a target=\"_blank\" href=https://colab.research.google.com/notebooks/data_table.ipynb>data table notebook</a>'\n",
              "            + ' to learn more about interactive tables.';\n",
              "          element.innerHTML = '';\n",
              "          dataTable['output_type'] = 'display_data';\n",
              "          await google.colab.output.renderOutput(dataTable, element);\n",
              "          const docLink = document.createElement('div');\n",
              "          docLink.innerHTML = docLinkHtml;\n",
              "          element.appendChild(docLink);\n",
              "        }\n",
              "      </script>\n",
              "    </div>\n",
              "  </div>\n",
              "  "
            ]
          },
          "metadata": {},
          "execution_count": 66
        }
      ],
      "source": [
        "df"
      ]
    },
    {
      "cell_type": "markdown",
      "metadata": {
        "id": "2ZKYTbQLXEao"
      },
      "source": [
        "###MinMaxScaler"
      ]
    },
    {
      "cell_type": "code",
      "execution_count": null,
      "metadata": {
        "id": "MbEp9qBaXHgC"
      },
      "outputs": [],
      "source": [
        "#import MinMaxScaler\n",
        "from sklearn.preprocessing import MinMaxScaler"
      ]
    },
    {
      "cell_type": "code",
      "execution_count": null,
      "metadata": {
        "colab": {
          "base_uri": "https://localhost:8080/",
          "height": 423
        },
        "id": "QKRE1kqWXK3A",
        "outputId": "b9ec054a-4b84-4b52-fa25-88fcd45282e3"
      },
      "outputs": [
        {
          "output_type": "execute_result",
          "data": {
            "text/plain": [
              "       disease  increase   loc    number  population  year\n",
              "0            1  0.112610  0.00  0.066819    0.067840   0.0\n",
              "1            1  0.067484  0.04  0.006400    0.008856   0.0\n",
              "2            1  0.161951  0.06  0.067242    0.046752   0.0\n",
              "3            1  0.023269  0.08  0.027943    0.139750   0.0\n",
              "4            1  0.069578  0.10  0.015860    0.024599   0.0\n",
              "...        ...       ...   ...       ...         ...   ...\n",
              "14260        3  0.000692  0.92  0.001292    0.212952   1.0\n",
              "14261        3  0.003590  0.94  0.005524    0.179269   1.0\n",
              "14262        3  0.000669  0.96  0.000280    0.046974   1.0\n",
              "14263        3  0.002084  0.98  0.002652    0.149530   1.0\n",
              "14264        3  0.000420  1.00  0.000053    0.012743   1.0\n",
              "\n",
              "[14265 rows x 6 columns]"
            ],
            "text/html": [
              "\n",
              "  <div id=\"df-c3acda56-c752-46fd-a5f8-acb41532a2a4\">\n",
              "    <div class=\"colab-df-container\">\n",
              "      <div>\n",
              "<style scoped>\n",
              "    .dataframe tbody tr th:only-of-type {\n",
              "        vertical-align: middle;\n",
              "    }\n",
              "\n",
              "    .dataframe tbody tr th {\n",
              "        vertical-align: top;\n",
              "    }\n",
              "\n",
              "    .dataframe thead th {\n",
              "        text-align: right;\n",
              "    }\n",
              "</style>\n",
              "<table border=\"1\" class=\"dataframe\">\n",
              "  <thead>\n",
              "    <tr style=\"text-align: right;\">\n",
              "      <th></th>\n",
              "      <th>disease</th>\n",
              "      <th>increase</th>\n",
              "      <th>loc</th>\n",
              "      <th>number</th>\n",
              "      <th>population</th>\n",
              "      <th>year</th>\n",
              "    </tr>\n",
              "  </thead>\n",
              "  <tbody>\n",
              "    <tr>\n",
              "      <th>0</th>\n",
              "      <td>1</td>\n",
              "      <td>0.112610</td>\n",
              "      <td>0.00</td>\n",
              "      <td>0.066819</td>\n",
              "      <td>0.067840</td>\n",
              "      <td>0.0</td>\n",
              "    </tr>\n",
              "    <tr>\n",
              "      <th>1</th>\n",
              "      <td>1</td>\n",
              "      <td>0.067484</td>\n",
              "      <td>0.04</td>\n",
              "      <td>0.006400</td>\n",
              "      <td>0.008856</td>\n",
              "      <td>0.0</td>\n",
              "    </tr>\n",
              "    <tr>\n",
              "      <th>2</th>\n",
              "      <td>1</td>\n",
              "      <td>0.161951</td>\n",
              "      <td>0.06</td>\n",
              "      <td>0.067242</td>\n",
              "      <td>0.046752</td>\n",
              "      <td>0.0</td>\n",
              "    </tr>\n",
              "    <tr>\n",
              "      <th>3</th>\n",
              "      <td>1</td>\n",
              "      <td>0.023269</td>\n",
              "      <td>0.08</td>\n",
              "      <td>0.027943</td>\n",
              "      <td>0.139750</td>\n",
              "      <td>0.0</td>\n",
              "    </tr>\n",
              "    <tr>\n",
              "      <th>4</th>\n",
              "      <td>1</td>\n",
              "      <td>0.069578</td>\n",
              "      <td>0.10</td>\n",
              "      <td>0.015860</td>\n",
              "      <td>0.024599</td>\n",
              "      <td>0.0</td>\n",
              "    </tr>\n",
              "    <tr>\n",
              "      <th>...</th>\n",
              "      <td>...</td>\n",
              "      <td>...</td>\n",
              "      <td>...</td>\n",
              "      <td>...</td>\n",
              "      <td>...</td>\n",
              "      <td>...</td>\n",
              "    </tr>\n",
              "    <tr>\n",
              "      <th>14260</th>\n",
              "      <td>3</td>\n",
              "      <td>0.000692</td>\n",
              "      <td>0.92</td>\n",
              "      <td>0.001292</td>\n",
              "      <td>0.212952</td>\n",
              "      <td>1.0</td>\n",
              "    </tr>\n",
              "    <tr>\n",
              "      <th>14261</th>\n",
              "      <td>3</td>\n",
              "      <td>0.003590</td>\n",
              "      <td>0.94</td>\n",
              "      <td>0.005524</td>\n",
              "      <td>0.179269</td>\n",
              "      <td>1.0</td>\n",
              "    </tr>\n",
              "    <tr>\n",
              "      <th>14262</th>\n",
              "      <td>3</td>\n",
              "      <td>0.000669</td>\n",
              "      <td>0.96</td>\n",
              "      <td>0.000280</td>\n",
              "      <td>0.046974</td>\n",
              "      <td>1.0</td>\n",
              "    </tr>\n",
              "    <tr>\n",
              "      <th>14263</th>\n",
              "      <td>3</td>\n",
              "      <td>0.002084</td>\n",
              "      <td>0.98</td>\n",
              "      <td>0.002652</td>\n",
              "      <td>0.149530</td>\n",
              "      <td>1.0</td>\n",
              "    </tr>\n",
              "    <tr>\n",
              "      <th>14264</th>\n",
              "      <td>3</td>\n",
              "      <td>0.000420</td>\n",
              "      <td>1.00</td>\n",
              "      <td>0.000053</td>\n",
              "      <td>0.012743</td>\n",
              "      <td>1.0</td>\n",
              "    </tr>\n",
              "  </tbody>\n",
              "</table>\n",
              "<p>14265 rows × 6 columns</p>\n",
              "</div>\n",
              "      <button class=\"colab-df-convert\" onclick=\"convertToInteractive('df-c3acda56-c752-46fd-a5f8-acb41532a2a4')\"\n",
              "              title=\"Convert this dataframe to an interactive table.\"\n",
              "              style=\"display:none;\">\n",
              "        \n",
              "  <svg xmlns=\"http://www.w3.org/2000/svg\" height=\"24px\"viewBox=\"0 0 24 24\"\n",
              "       width=\"24px\">\n",
              "    <path d=\"M0 0h24v24H0V0z\" fill=\"none\"/>\n",
              "    <path d=\"M18.56 5.44l.94 2.06.94-2.06 2.06-.94-2.06-.94-.94-2.06-.94 2.06-2.06.94zm-11 1L8.5 8.5l.94-2.06 2.06-.94-2.06-.94L8.5 2.5l-.94 2.06-2.06.94zm10 10l.94 2.06.94-2.06 2.06-.94-2.06-.94-.94-2.06-.94 2.06-2.06.94z\"/><path d=\"M17.41 7.96l-1.37-1.37c-.4-.4-.92-.59-1.43-.59-.52 0-1.04.2-1.43.59L10.3 9.45l-7.72 7.72c-.78.78-.78 2.05 0 2.83L4 21.41c.39.39.9.59 1.41.59.51 0 1.02-.2 1.41-.59l7.78-7.78 2.81-2.81c.8-.78.8-2.07 0-2.86zM5.41 20L4 18.59l7.72-7.72 1.47 1.35L5.41 20z\"/>\n",
              "  </svg>\n",
              "      </button>\n",
              "      \n",
              "  <style>\n",
              "    .colab-df-container {\n",
              "      display:flex;\n",
              "      flex-wrap:wrap;\n",
              "      gap: 12px;\n",
              "    }\n",
              "\n",
              "    .colab-df-convert {\n",
              "      background-color: #E8F0FE;\n",
              "      border: none;\n",
              "      border-radius: 50%;\n",
              "      cursor: pointer;\n",
              "      display: none;\n",
              "      fill: #1967D2;\n",
              "      height: 32px;\n",
              "      padding: 0 0 0 0;\n",
              "      width: 32px;\n",
              "    }\n",
              "\n",
              "    .colab-df-convert:hover {\n",
              "      background-color: #E2EBFA;\n",
              "      box-shadow: 0px 1px 2px rgba(60, 64, 67, 0.3), 0px 1px 3px 1px rgba(60, 64, 67, 0.15);\n",
              "      fill: #174EA6;\n",
              "    }\n",
              "\n",
              "    [theme=dark] .colab-df-convert {\n",
              "      background-color: #3B4455;\n",
              "      fill: #D2E3FC;\n",
              "    }\n",
              "\n",
              "    [theme=dark] .colab-df-convert:hover {\n",
              "      background-color: #434B5C;\n",
              "      box-shadow: 0px 1px 3px 1px rgba(0, 0, 0, 0.15);\n",
              "      filter: drop-shadow(0px 1px 2px rgba(0, 0, 0, 0.3));\n",
              "      fill: #FFFFFF;\n",
              "    }\n",
              "  </style>\n",
              "\n",
              "      <script>\n",
              "        const buttonEl =\n",
              "          document.querySelector('#df-c3acda56-c752-46fd-a5f8-acb41532a2a4 button.colab-df-convert');\n",
              "        buttonEl.style.display =\n",
              "          google.colab.kernel.accessAllowed ? 'block' : 'none';\n",
              "\n",
              "        async function convertToInteractive(key) {\n",
              "          const element = document.querySelector('#df-c3acda56-c752-46fd-a5f8-acb41532a2a4');\n",
              "          const dataTable =\n",
              "            await google.colab.kernel.invokeFunction('convertToInteractive',\n",
              "                                                     [key], {});\n",
              "          if (!dataTable) return;\n",
              "\n",
              "          const docLinkHtml = 'Like what you see? Visit the ' +\n",
              "            '<a target=\"_blank\" href=https://colab.research.google.com/notebooks/data_table.ipynb>data table notebook</a>'\n",
              "            + ' to learn more about interactive tables.';\n",
              "          element.innerHTML = '';\n",
              "          dataTable['output_type'] = 'display_data';\n",
              "          await google.colab.output.renderOutput(dataTable, element);\n",
              "          const docLink = document.createElement('div');\n",
              "          docLink.innerHTML = docLinkHtml;\n",
              "          element.appendChild(docLink);\n",
              "        }\n",
              "      </script>\n",
              "    </div>\n",
              "  </div>\n",
              "  "
            ]
          },
          "metadata": {},
          "execution_count": 68
        }
      ],
      "source": [
        "scaler = MinMaxScaler()\n",
        "df['increase'] = scaler.fit_transform(df[['increase']])\n",
        "df['number'] = scaler.fit_transform(df[['number']])\n",
        "df['loc'] = scaler.fit_transform(df[['loc']])\n",
        "df['population'] = scaler.fit_transform(df[['population']])\n",
        "df['year'] = scaler.fit_transform(df[['year']])\n",
        "df"
      ]
    },
    {
      "cell_type": "markdown",
      "metadata": {
        "id": "hEQUFiTpXgpi"
      },
      "source": [
        "###Model Implementation"
      ]
    },
    {
      "cell_type": "code",
      "execution_count": null,
      "metadata": {
        "colab": {
          "base_uri": "https://localhost:8080/",
          "height": 423
        },
        "id": "jSTailrUXimh",
        "outputId": "95fd0e01-439f-4d57-f7fe-9a3833bfc963"
      },
      "outputs": [
        {
          "output_type": "execute_result",
          "data": {
            "text/plain": [
              "       increase   loc    number  population  year\n",
              "0      0.112610  0.00  0.066819    0.067840   0.0\n",
              "1      0.067484  0.04  0.006400    0.008856   0.0\n",
              "2      0.161951  0.06  0.067242    0.046752   0.0\n",
              "3      0.023269  0.08  0.027943    0.139750   0.0\n",
              "4      0.069578  0.10  0.015860    0.024599   0.0\n",
              "...         ...   ...       ...         ...   ...\n",
              "14260  0.000692  0.92  0.001292    0.212952   1.0\n",
              "14261  0.003590  0.94  0.005524    0.179269   1.0\n",
              "14262  0.000669  0.96  0.000280    0.046974   1.0\n",
              "14263  0.002084  0.98  0.002652    0.149530   1.0\n",
              "14264  0.000420  1.00  0.000053    0.012743   1.0\n",
              "\n",
              "[14265 rows x 5 columns]"
            ],
            "text/html": [
              "\n",
              "  <div id=\"df-660de327-a0a5-4701-813a-ab4a5103961c\">\n",
              "    <div class=\"colab-df-container\">\n",
              "      <div>\n",
              "<style scoped>\n",
              "    .dataframe tbody tr th:only-of-type {\n",
              "        vertical-align: middle;\n",
              "    }\n",
              "\n",
              "    .dataframe tbody tr th {\n",
              "        vertical-align: top;\n",
              "    }\n",
              "\n",
              "    .dataframe thead th {\n",
              "        text-align: right;\n",
              "    }\n",
              "</style>\n",
              "<table border=\"1\" class=\"dataframe\">\n",
              "  <thead>\n",
              "    <tr style=\"text-align: right;\">\n",
              "      <th></th>\n",
              "      <th>increase</th>\n",
              "      <th>loc</th>\n",
              "      <th>number</th>\n",
              "      <th>population</th>\n",
              "      <th>year</th>\n",
              "    </tr>\n",
              "  </thead>\n",
              "  <tbody>\n",
              "    <tr>\n",
              "      <th>0</th>\n",
              "      <td>0.112610</td>\n",
              "      <td>0.00</td>\n",
              "      <td>0.066819</td>\n",
              "      <td>0.067840</td>\n",
              "      <td>0.0</td>\n",
              "    </tr>\n",
              "    <tr>\n",
              "      <th>1</th>\n",
              "      <td>0.067484</td>\n",
              "      <td>0.04</td>\n",
              "      <td>0.006400</td>\n",
              "      <td>0.008856</td>\n",
              "      <td>0.0</td>\n",
              "    </tr>\n",
              "    <tr>\n",
              "      <th>2</th>\n",
              "      <td>0.161951</td>\n",
              "      <td>0.06</td>\n",
              "      <td>0.067242</td>\n",
              "      <td>0.046752</td>\n",
              "      <td>0.0</td>\n",
              "    </tr>\n",
              "    <tr>\n",
              "      <th>3</th>\n",
              "      <td>0.023269</td>\n",
              "      <td>0.08</td>\n",
              "      <td>0.027943</td>\n",
              "      <td>0.139750</td>\n",
              "      <td>0.0</td>\n",
              "    </tr>\n",
              "    <tr>\n",
              "      <th>4</th>\n",
              "      <td>0.069578</td>\n",
              "      <td>0.10</td>\n",
              "      <td>0.015860</td>\n",
              "      <td>0.024599</td>\n",
              "      <td>0.0</td>\n",
              "    </tr>\n",
              "    <tr>\n",
              "      <th>...</th>\n",
              "      <td>...</td>\n",
              "      <td>...</td>\n",
              "      <td>...</td>\n",
              "      <td>...</td>\n",
              "      <td>...</td>\n",
              "    </tr>\n",
              "    <tr>\n",
              "      <th>14260</th>\n",
              "      <td>0.000692</td>\n",
              "      <td>0.92</td>\n",
              "      <td>0.001292</td>\n",
              "      <td>0.212952</td>\n",
              "      <td>1.0</td>\n",
              "    </tr>\n",
              "    <tr>\n",
              "      <th>14261</th>\n",
              "      <td>0.003590</td>\n",
              "      <td>0.94</td>\n",
              "      <td>0.005524</td>\n",
              "      <td>0.179269</td>\n",
              "      <td>1.0</td>\n",
              "    </tr>\n",
              "    <tr>\n",
              "      <th>14262</th>\n",
              "      <td>0.000669</td>\n",
              "      <td>0.96</td>\n",
              "      <td>0.000280</td>\n",
              "      <td>0.046974</td>\n",
              "      <td>1.0</td>\n",
              "    </tr>\n",
              "    <tr>\n",
              "      <th>14263</th>\n",
              "      <td>0.002084</td>\n",
              "      <td>0.98</td>\n",
              "      <td>0.002652</td>\n",
              "      <td>0.149530</td>\n",
              "      <td>1.0</td>\n",
              "    </tr>\n",
              "    <tr>\n",
              "      <th>14264</th>\n",
              "      <td>0.000420</td>\n",
              "      <td>1.00</td>\n",
              "      <td>0.000053</td>\n",
              "      <td>0.012743</td>\n",
              "      <td>1.0</td>\n",
              "    </tr>\n",
              "  </tbody>\n",
              "</table>\n",
              "<p>14265 rows × 5 columns</p>\n",
              "</div>\n",
              "      <button class=\"colab-df-convert\" onclick=\"convertToInteractive('df-660de327-a0a5-4701-813a-ab4a5103961c')\"\n",
              "              title=\"Convert this dataframe to an interactive table.\"\n",
              "              style=\"display:none;\">\n",
              "        \n",
              "  <svg xmlns=\"http://www.w3.org/2000/svg\" height=\"24px\"viewBox=\"0 0 24 24\"\n",
              "       width=\"24px\">\n",
              "    <path d=\"M0 0h24v24H0V0z\" fill=\"none\"/>\n",
              "    <path d=\"M18.56 5.44l.94 2.06.94-2.06 2.06-.94-2.06-.94-.94-2.06-.94 2.06-2.06.94zm-11 1L8.5 8.5l.94-2.06 2.06-.94-2.06-.94L8.5 2.5l-.94 2.06-2.06.94zm10 10l.94 2.06.94-2.06 2.06-.94-2.06-.94-.94-2.06-.94 2.06-2.06.94z\"/><path d=\"M17.41 7.96l-1.37-1.37c-.4-.4-.92-.59-1.43-.59-.52 0-1.04.2-1.43.59L10.3 9.45l-7.72 7.72c-.78.78-.78 2.05 0 2.83L4 21.41c.39.39.9.59 1.41.59.51 0 1.02-.2 1.41-.59l7.78-7.78 2.81-2.81c.8-.78.8-2.07 0-2.86zM5.41 20L4 18.59l7.72-7.72 1.47 1.35L5.41 20z\"/>\n",
              "  </svg>\n",
              "      </button>\n",
              "      \n",
              "  <style>\n",
              "    .colab-df-container {\n",
              "      display:flex;\n",
              "      flex-wrap:wrap;\n",
              "      gap: 12px;\n",
              "    }\n",
              "\n",
              "    .colab-df-convert {\n",
              "      background-color: #E8F0FE;\n",
              "      border: none;\n",
              "      border-radius: 50%;\n",
              "      cursor: pointer;\n",
              "      display: none;\n",
              "      fill: #1967D2;\n",
              "      height: 32px;\n",
              "      padding: 0 0 0 0;\n",
              "      width: 32px;\n",
              "    }\n",
              "\n",
              "    .colab-df-convert:hover {\n",
              "      background-color: #E2EBFA;\n",
              "      box-shadow: 0px 1px 2px rgba(60, 64, 67, 0.3), 0px 1px 3px 1px rgba(60, 64, 67, 0.15);\n",
              "      fill: #174EA6;\n",
              "    }\n",
              "\n",
              "    [theme=dark] .colab-df-convert {\n",
              "      background-color: #3B4455;\n",
              "      fill: #D2E3FC;\n",
              "    }\n",
              "\n",
              "    [theme=dark] .colab-df-convert:hover {\n",
              "      background-color: #434B5C;\n",
              "      box-shadow: 0px 1px 3px 1px rgba(0, 0, 0, 0.15);\n",
              "      filter: drop-shadow(0px 1px 2px rgba(0, 0, 0, 0.3));\n",
              "      fill: #FFFFFF;\n",
              "    }\n",
              "  </style>\n",
              "\n",
              "      <script>\n",
              "        const buttonEl =\n",
              "          document.querySelector('#df-660de327-a0a5-4701-813a-ab4a5103961c button.colab-df-convert');\n",
              "        buttonEl.style.display =\n",
              "          google.colab.kernel.accessAllowed ? 'block' : 'none';\n",
              "\n",
              "        async function convertToInteractive(key) {\n",
              "          const element = document.querySelector('#df-660de327-a0a5-4701-813a-ab4a5103961c');\n",
              "          const dataTable =\n",
              "            await google.colab.kernel.invokeFunction('convertToInteractive',\n",
              "                                                     [key], {});\n",
              "          if (!dataTable) return;\n",
              "\n",
              "          const docLinkHtml = 'Like what you see? Visit the ' +\n",
              "            '<a target=\"_blank\" href=https://colab.research.google.com/notebooks/data_table.ipynb>data table notebook</a>'\n",
              "            + ' to learn more about interactive tables.';\n",
              "          element.innerHTML = '';\n",
              "          dataTable['output_type'] = 'display_data';\n",
              "          await google.colab.output.renderOutput(dataTable, element);\n",
              "          const docLink = document.createElement('div');\n",
              "          docLink.innerHTML = docLinkHtml;\n",
              "          element.appendChild(docLink);\n",
              "        }\n",
              "      </script>\n",
              "    </div>\n",
              "  </div>\n",
              "  "
            ]
          },
          "metadata": {},
          "execution_count": 69
        }
      ],
      "source": [
        "x = df.drop('disease',axis=1)\n",
        "x"
      ]
    },
    {
      "cell_type": "code",
      "execution_count": null,
      "metadata": {
        "colab": {
          "base_uri": "https://localhost:8080/"
        },
        "id": "Rznd8nadXqgi",
        "outputId": "d6e06498-2092-41dd-f3b5-1cb7bf783e05"
      },
      "outputs": [
        {
          "output_type": "execute_result",
          "data": {
            "text/plain": [
              "0        1\n",
              "1        1\n",
              "2        1\n",
              "3        1\n",
              "4        1\n",
              "        ..\n",
              "14260    3\n",
              "14261    3\n",
              "14262    3\n",
              "14263    3\n",
              "14264    3\n",
              "Name: disease, Length: 14265, dtype: int64"
            ]
          },
          "metadata": {},
          "execution_count": 70
        }
      ],
      "source": [
        "y = df['disease']\n",
        "y"
      ]
    },
    {
      "cell_type": "code",
      "execution_count": null,
      "metadata": {
        "colab": {
          "base_uri": "https://localhost:8080/"
        },
        "id": "U2sWS4mYTJDt",
        "outputId": "358f0490-5ed4-4b92-f0db-4a641b6b8c9a"
      },
      "outputs": [
        {
          "output_type": "execute_result",
          "data": {
            "text/plain": [
              "1    3333\n",
              "3    2716\n",
              "0    2327\n",
              "4    1860\n",
              "2    1576\n",
              "5    1374\n",
              "6    1079\n",
              "Name: disease, dtype: int64"
            ]
          },
          "metadata": {},
          "execution_count": 71
        }
      ],
      "source": [
        "df['disease'].value_counts()"
      ]
    },
    {
      "cell_type": "code",
      "execution_count": null,
      "metadata": {
        "id": "ttC-2n6dXvNx"
      },
      "outputs": [],
      "source": [
        "from sklearn.model_selection import train_test_split"
      ]
    },
    {
      "cell_type": "code",
      "execution_count": null,
      "metadata": {
        "id": "1kgpHeR_Xw_S"
      },
      "outputs": [],
      "source": [
        "x_train,x_test,y_train,y_test = train_test_split(x,y,test_size=0.2)"
      ]
    },
    {
      "cell_type": "markdown",
      "metadata": {
        "id": "GtnXbi2EX31q"
      },
      "source": [
        "###LinearRegression"
      ]
    },
    {
      "cell_type": "code",
      "execution_count": null,
      "metadata": {
        "id": "--V-pSVfX5jk"
      },
      "outputs": [],
      "source": [
        "from sklearn.linear_model import LinearRegression"
      ]
    },
    {
      "cell_type": "code",
      "execution_count": null,
      "metadata": {
        "colab": {
          "base_uri": "https://localhost:8080/"
        },
        "id": "MT5HGKeHX8R9",
        "outputId": "b8d7bf03-cd1d-4979-8832-4f30b36523ad"
      },
      "outputs": [
        {
          "output_type": "execute_result",
          "data": {
            "text/plain": [
              "0.2400369185106931"
            ]
          },
          "metadata": {},
          "execution_count": 75
        }
      ],
      "source": [
        "lin = LinearRegression()\n",
        "lin.fit(x_train,y_train)\n",
        "lin.score(x_train,y_train)"
      ]
    },
    {
      "cell_type": "code",
      "execution_count": null,
      "metadata": {
        "colab": {
          "base_uri": "https://localhost:8080/"
        },
        "id": "_TTGOAqcYAMQ",
        "outputId": "20e87325-9805-4bd0-9369-1c9e0bf87c54"
      },
      "outputs": [
        {
          "output_type": "execute_result",
          "data": {
            "text/plain": [
              "0.2313447802333921"
            ]
          },
          "metadata": {},
          "execution_count": 76
        }
      ],
      "source": [
        "lin.score(x_test,y_test)"
      ]
    },
    {
      "cell_type": "markdown",
      "metadata": {
        "id": "Jyn9GZg4YTN7"
      },
      "source": [
        "###LogisticRegression"
      ]
    },
    {
      "cell_type": "code",
      "execution_count": null,
      "metadata": {
        "id": "xunF6aXcYUWQ"
      },
      "outputs": [],
      "source": [
        "from sklearn.linear_model import LogisticRegression"
      ]
    },
    {
      "cell_type": "code",
      "execution_count": null,
      "metadata": {
        "colab": {
          "base_uri": "https://localhost:8080/"
        },
        "id": "YuBPfs9lYYyF",
        "outputId": "ee704d3d-7449-4353-f504-211fdd25ff5a"
      },
      "outputs": [
        {
          "output_type": "stream",
          "name": "stderr",
          "text": [
            "/usr/local/lib/python3.7/dist-packages/sklearn/linear_model/_logistic.py:818: ConvergenceWarning: lbfgs failed to converge (status=1):\n",
            "STOP: TOTAL NO. of ITERATIONS REACHED LIMIT.\n",
            "\n",
            "Increase the number of iterations (max_iter) or scale the data as shown in:\n",
            "    https://scikit-learn.org/stable/modules/preprocessing.html\n",
            "Please also refer to the documentation for alternative solver options:\n",
            "    https://scikit-learn.org/stable/modules/linear_model.html#logistic-regression\n",
            "  extra_warning_msg=_LOGISTIC_SOLVER_CONVERGENCE_MSG,\n"
          ]
        },
        {
          "output_type": "execute_result",
          "data": {
            "text/plain": [
              "0.34945671223273744"
            ]
          },
          "metadata": {},
          "execution_count": 78
        }
      ],
      "source": [
        "log = LogisticRegression()\n",
        "log.fit(x_train,y_train)\n",
        "log.score(x_train,y_train)"
      ]
    },
    {
      "cell_type": "code",
      "execution_count": null,
      "metadata": {
        "colab": {
          "base_uri": "https://localhost:8080/"
        },
        "id": "7F22OgFcY_WR",
        "outputId": "d70e362f-2ac3-4661-9915-275d58d9f828"
      },
      "outputs": [
        {
          "output_type": "execute_result",
          "data": {
            "text/plain": [
              "0.33964248159831756"
            ]
          },
          "metadata": {},
          "execution_count": 79
        }
      ],
      "source": [
        "log.score(x_test,y_test)"
      ]
    },
    {
      "cell_type": "code",
      "execution_count": null,
      "metadata": {
        "id": "MN-gCF6kZRnA"
      },
      "outputs": [],
      "source": [
        "from sklearn.metrics import confusion_matrix\n",
        "from sklearn.metrics import plot_confusion_matrix"
      ]
    },
    {
      "cell_type": "code",
      "execution_count": null,
      "metadata": {
        "colab": {
          "base_uri": "https://localhost:8080/",
          "height": 334
        },
        "id": "Sph9QCQzZUoD",
        "outputId": "d456e4e6-9511-4a7b-947e-39d61c65f6cb"
      },
      "outputs": [
        {
          "output_type": "stream",
          "name": "stderr",
          "text": [
            "/usr/local/lib/python3.7/dist-packages/sklearn/utils/deprecation.py:87: FutureWarning: Function plot_confusion_matrix is deprecated; Function `plot_confusion_matrix` is deprecated in 1.0 and will be removed in 1.2. Use one of the class methods: ConfusionMatrixDisplay.from_predictions or ConfusionMatrixDisplay.from_estimator.\n",
            "  warnings.warn(msg, category=FutureWarning)\n"
          ]
        },
        {
          "output_type": "display_data",
          "data": {
            "text/plain": [
              "<Figure size 432x288 with 2 Axes>"
            ],
            "image/png": "[encoded data removed]"
          },
          "metadata": {
            "needs_background": "light"
          }
        }
      ],
      "source": [
        "#use confusion matrix \n",
        "plot_confusion_matrix(log, x_test, y_test, cmap='Blues', display_labels=['Negative','Positive'])\n",
        "plt.show()"
      ]
    },
    {
      "cell_type": "markdown",
      "metadata": {
        "id": "bBG4ZVyGv4_J"
      },
      "source": [
        "###KNeighborsRegressor"
      ]
    },
    {
      "cell_type": "code",
      "execution_count": null,
      "metadata": {
        "id": "eofDbQ57v4_K"
      },
      "outputs": [],
      "source": [
        "from sklearn.neighbors import KNeighborsRegressor"
      ]
    },
    {
      "cell_type": "code",
      "execution_count": null,
      "metadata": {
        "colab": {
          "base_uri": "https://localhost:8080/"
        },
        "outputId": "6bf55b62-c83e-4bff-d376-1c1a6a512f7b",
        "id": "mlMJ8mF1v4_K"
      },
      "outputs": [
        {
          "output_type": "execute_result",
          "data": {
            "text/plain": [
              "0.46289096157142406"
            ]
          },
          "metadata": {},
          "execution_count": 87
        }
      ],
      "source": [
        "KNNR = KNeighborsRegressor()\n",
        "KNNR.fit(x_train,y_train)\n",
        "KNNR.score(x_train,y_train)"
      ]
    },
    {
      "cell_type": "code",
      "execution_count": null,
      "metadata": {
        "colab": {
          "base_uri": "https://localhost:8080/"
        },
        "outputId": "32c4cbe7-6563-4d8e-870a-e2a6296034a8",
        "id": "g3NHyT81v4_L"
      },
      "outputs": [
        {
          "output_type": "execute_result",
          "data": {
            "text/plain": [
              "0.2010386559863896"
            ]
          },
          "metadata": {},
          "execution_count": 88
        }
      ],
      "source": [
        "KNNR.score(x_test,y_test)"
      ]
    },
    {
      "cell_type": "markdown",
      "metadata": {
        "id": "eVi9pAMBZaUQ"
      },
      "source": [
        "###KNeighborsClassifier"
      ]
    },
    {
      "cell_type": "code",
      "execution_count": null,
      "metadata": {
        "id": "luzxJY45ZcLg"
      },
      "outputs": [],
      "source": [
        "from sklearn.neighbors import KNeighborsClassifier"
      ]
    },
    {
      "cell_type": "code",
      "execution_count": null,
      "metadata": {
        "colab": {
          "base_uri": "https://localhost:8080/"
        },
        "id": "NPUXFdLDZeX3",
        "outputId": "fecdfe1c-f424-427d-c70c-7f4c36c80481"
      },
      "outputs": [
        {
          "output_type": "execute_result",
          "data": {
            "text/plain": [
              "0.5101647388713635"
            ]
          },
          "metadata": {},
          "execution_count": 83
        }
      ],
      "source": [
        "KNNC = KNeighborsClassifier(n_neighbors=10)\n",
        "KNNC.fit(x_train,y_train)\n",
        "KNNC.score(x_train,y_train)"
      ]
    },
    {
      "cell_type": "code",
      "execution_count": null,
      "metadata": {
        "colab": {
          "base_uri": "https://localhost:8080/"
        },
        "id": "Jz1Wcx9YZgDV",
        "outputId": "5d0d830a-ab08-4b19-cd52-fccd77512c0a"
      },
      "outputs": [
        {
          "output_type": "execute_result",
          "data": {
            "text/plain": [
              "0.2842621801612338"
            ]
          },
          "metadata": {},
          "execution_count": 84
        }
      ],
      "source": [
        "KNNC.score(x_test,y_test)"
      ]
    },
    {
      "cell_type": "code",
      "execution_count": null,
      "metadata": {
        "colab": {
          "base_uri": "https://localhost:8080/",
          "height": 334
        },
        "id": "NvgTnO2WZtty",
        "outputId": "71ec05bc-dc91-49f1-a688-14e22a68599c"
      },
      "outputs": [
        {
          "output_type": "stream",
          "name": "stderr",
          "text": [
            "/usr/local/lib/python3.7/dist-packages/sklearn/utils/deprecation.py:87: FutureWarning: Function plot_confusion_matrix is deprecated; Function `plot_confusion_matrix` is deprecated in 1.0 and will be removed in 1.2. Use one of the class methods: ConfusionMatrixDisplay.from_predictions or ConfusionMatrixDisplay.from_estimator.\n",
            "  warnings.warn(msg, category=FutureWarning)\n"
          ]
        },
        {
          "output_type": "display_data",
          "data": {
            "text/plain": [
              "<Figure size 432x288 with 2 Axes>"
            ],
            "image/png": "[encoded data removed]"
          },
          "metadata": {
            "needs_background": "light"
          }
        }
      ],
      "source": [
        "#use confusion matrix \n",
        "plot_confusion_matrix(KNNC, x_test, y_test, cmap='Blues', display_labels=['Negative','Positive'])\n",
        "plt.show()"
      ]
    },
    {
      "cell_type": "markdown",
      "metadata": {
        "id": "Sr8edvA2aNi4"
      },
      "source": [
        "###DecisionTreeClassifier"
      ]
    },
    {
      "cell_type": "code",
      "execution_count": null,
      "metadata": {
        "id": "pn_HmEhkaPf7"
      },
      "outputs": [],
      "source": [
        "from sklearn.tree import DecisionTreeClassifier"
      ]
    },
    {
      "cell_type": "code",
      "execution_count": null,
      "metadata": {
        "colab": {
          "base_uri": "https://localhost:8080/"
        },
        "id": "QX0AeOLgaTxt",
        "outputId": "382c9da3-62d3-4e5a-c844-e80b74c17ebd"
      },
      "outputs": [
        {
          "output_type": "execute_result",
          "data": {
            "text/plain": [
              "0.9932527164388363"
            ]
          },
          "metadata": {},
          "execution_count": 90
        }
      ],
      "source": [
        "DTC = DecisionTreeClassifier()\n",
        "DTC.fit(x_train,y_train)\n",
        "DTC.score(x_train,y_train)"
      ]
    },
    {
      "cell_type": "code",
      "execution_count": null,
      "metadata": {
        "colab": {
          "base_uri": "https://localhost:8080/"
        },
        "id": "bbQ5VXeoaWce",
        "outputId": "c44bda1d-98ef-4188-e2f0-146293f136bf"
      },
      "outputs": [
        {
          "output_type": "execute_result",
          "data": {
            "text/plain": [
              "0.5436382754994742"
            ]
          },
          "metadata": {},
          "execution_count": 91
        }
      ],
      "source": [
        "DTC.score(x_test,y_test)"
      ]
    },
    {
      "cell_type": "code",
      "execution_count": null,
      "metadata": {
        "colab": {
          "base_uri": "https://localhost:8080/",
          "height": 334
        },
        "id": "nkr5_5buacD5",
        "outputId": "94e6a43b-3358-4057-9be6-4ffbadff184a"
      },
      "outputs": [
        {
          "output_type": "stream",
          "name": "stderr",
          "text": [
            "/usr/local/lib/python3.7/dist-packages/sklearn/utils/deprecation.py:87: FutureWarning: Function plot_confusion_matrix is deprecated; Function `plot_confusion_matrix` is deprecated in 1.0 and will be removed in 1.2. Use one of the class methods: ConfusionMatrixDisplay.from_predictions or ConfusionMatrixDisplay.from_estimator.\n",
            "  warnings.warn(msg, category=FutureWarning)\n"
          ]
        },
        {
          "output_type": "display_data",
          "data": {
            "text/plain": [
              "<Figure size 432x288 with 2 Axes>"
            ],
            "image/png": "[encoded data removed]"
          },
          "metadata": {
            "needs_background": "light"
          }
        }
      ],
      "source": [
        "#use confusion matrix \n",
        "plot_confusion_matrix(DTC, x_test, y_test, cmap='Blues', display_labels=['Negative','Positive'])\n",
        "plt.show()"
      ]
    },
    {
      "cell_type": "markdown",
      "metadata": {
        "id": "Wl8ucsywaiRi"
      },
      "source": [
        "###RandomForestClassifier"
      ]
    },
    {
      "cell_type": "code",
      "execution_count": null,
      "metadata": {
        "id": "w1NgrcBoaiu8"
      },
      "outputs": [],
      "source": [
        "from sklearn.ensemble import RandomForestClassifier"
      ]
    },
    {
      "cell_type": "code",
      "execution_count": null,
      "metadata": {
        "colab": {
          "base_uri": "https://localhost:8080/"
        },
        "id": "fA2mP-5AanWe",
        "outputId": "40a0ce8b-8a79-46c3-f4fb-2a5883f63133"
      },
      "outputs": [
        {
          "output_type": "execute_result",
          "data": {
            "text/plain": [
              "0.9932527164388363"
            ]
          },
          "metadata": {},
          "execution_count": 94
        }
      ],
      "source": [
        "RFC = RandomForestClassifier()\n",
        "RFC.fit(x_train,y_train)\n",
        "RFC.score(x_train,y_train)"
      ]
    },
    {
      "cell_type": "code",
      "execution_count": null,
      "metadata": {
        "colab": {
          "base_uri": "https://localhost:8080/"
        },
        "id": "N1jDyrfWarGQ",
        "outputId": "521f2ce8-5cb9-48be-cd62-49882b224a41"
      },
      "outputs": [
        {
          "output_type": "execute_result",
          "data": {
            "text/plain": [
              "0.5793901156677181"
            ]
          },
          "metadata": {},
          "execution_count": 95
        }
      ],
      "source": [
        "RFC.score(x_test,y_test)"
      ]
    },
    {
      "cell_type": "code",
      "execution_count": null,
      "metadata": {
        "colab": {
          "base_uri": "https://localhost:8080/",
          "height": 334
        },
        "id": "puwZscNwauzT",
        "outputId": "53b9d34d-28a0-43d5-9b12-b8029a9c2017"
      },
      "outputs": [
        {
          "output_type": "stream",
          "name": "stderr",
          "text": [
            "/usr/local/lib/python3.7/dist-packages/sklearn/utils/deprecation.py:87: FutureWarning: Function plot_confusion_matrix is deprecated; Function `plot_confusion_matrix` is deprecated in 1.0 and will be removed in 1.2. Use one of the class methods: ConfusionMatrixDisplay.from_predictions or ConfusionMatrixDisplay.from_estimator.\n",
            "  warnings.warn(msg, category=FutureWarning)\n"
          ]
        },
        {
          "output_type": "display_data",
          "data": {
            "text/plain": [
              "<Figure size 432x288 with 2 Axes>"
            ],
            "image/png": "[encoded data removed]"
          },
          "metadata": {
            "needs_background": "light"
          }
        }
      ],
      "source": [
        "#use confusion matrix \n",
        "plot_confusion_matrix(RFC, x_test, y_test, cmap='Blues', display_labels=['Negative','Positive'])\n",
        "plt.show()"
      ]
    },
    {
      "cell_type": "markdown",
      "metadata": {
        "id": "l4pzAVa9azyn"
      },
      "source": [
        "###naive_bayes"
      ]
    },
    {
      "cell_type": "code",
      "execution_count": null,
      "metadata": {
        "id": "E_yuez5Sa0Oe"
      },
      "outputs": [],
      "source": [
        "from sklearn.naive_bayes import MultinomialNB"
      ]
    },
    {
      "cell_type": "code",
      "execution_count": null,
      "metadata": {
        "colab": {
          "base_uri": "https://localhost:8080/"
        },
        "id": "Yg165fdRa3gB",
        "outputId": "c243b956-563c-4470-a71b-29972c31c816"
      },
      "outputs": [
        {
          "output_type": "execute_result",
          "data": {
            "text/plain": [
              "MultinomialNB()"
            ]
          },
          "metadata": {},
          "execution_count": 98
        }
      ],
      "source": [
        "mnb = MultinomialNB()\n",
        "mnb.fit(x_train,y_train)"
      ]
    },
    {
      "cell_type": "code",
      "execution_count": null,
      "metadata": {
        "colab": {
          "base_uri": "https://localhost:8080/"
        },
        "id": "rjkQqIa7a5na",
        "outputId": "e44bdffc-273b-48e2-aed3-bd72bc9f451a"
      },
      "outputs": [
        {
          "output_type": "execute_result",
          "data": {
            "text/plain": [
              "0.25718541885734314"
            ]
          },
          "metadata": {},
          "execution_count": 99
        }
      ],
      "source": [
        "mnb.score(x_train,y_train)"
      ]
    },
    {
      "cell_type": "code",
      "execution_count": null,
      "metadata": {
        "colab": {
          "base_uri": "https://localhost:8080/"
        },
        "id": "Eci48Wska7bY",
        "outputId": "9bc49aa1-acb7-45e1-e581-7d6e2b212f36"
      },
      "outputs": [
        {
          "output_type": "execute_result",
          "data": {
            "text/plain": [
              "0.2509638976515948"
            ]
          },
          "metadata": {},
          "execution_count": 100
        }
      ],
      "source": [
        "mnb.score(x_test,y_test)"
      ]
    },
    {
      "cell_type": "code",
      "execution_count": null,
      "metadata": {
        "colab": {
          "base_uri": "https://localhost:8080/",
          "height": 334
        },
        "id": "QJXUaNDIa_2g",
        "outputId": "7f6919a6-135b-4a5d-87b4-f6c19fd4ab40"
      },
      "outputs": [
        {
          "output_type": "stream",
          "name": "stderr",
          "text": [
            "/usr/local/lib/python3.7/dist-packages/sklearn/utils/deprecation.py:87: FutureWarning: Function plot_confusion_matrix is deprecated; Function `plot_confusion_matrix` is deprecated in 1.0 and will be removed in 1.2. Use one of the class methods: ConfusionMatrixDisplay.from_predictions or ConfusionMatrixDisplay.from_estimator.\n",
            "  warnings.warn(msg, category=FutureWarning)\n"
          ]
        },
        {
          "output_type": "display_data",
          "data": {
            "text/plain": [
              "<Figure size 432x288 with 2 Axes>"
            ],
            "image/png": "[encoded data removed]"
          },
          "metadata": {
            "needs_background": "light"
          }
        }
      ],
      "source": [
        "plot_confusion_matrix(mnb, x_test, y_test, cmap='Blues', display_labels=['Negative','Positive'])\n",
        "plt.show()"
      ]
    },
    {
      "cell_type": "markdown",
      "metadata": {
        "id": "vlTN_TubbGzz"
      },
      "source": [
        "###SVM"
      ]
    },
    {
      "cell_type": "code",
      "execution_count": null,
      "metadata": {
        "id": "Ax1nEdiLbHPY"
      },
      "outputs": [],
      "source": [
        "from sklearn.svm import SVC"
      ]
    },
    {
      "cell_type": "code",
      "execution_count": null,
      "metadata": {
        "colab": {
          "base_uri": "https://localhost:8080/"
        },
        "id": "ea2-Icp0bayp",
        "outputId": "d767bc24-8d68-48f9-9926-427c3d88209b"
      },
      "outputs": [
        {
          "output_type": "execute_result",
          "data": {
            "text/plain": [
              "array([0, 0, 3, ..., 0, 0, 1])"
            ]
          },
          "metadata": {},
          "execution_count": 103
        }
      ],
      "source": [
        "svc = SVC(random_state=101)\n",
        "svc.fit(x_train,y_train)\n",
        "svc.predict(x_test)"
      ]
    },
    {
      "cell_type": "code",
      "execution_count": null,
      "metadata": {
        "colab": {
          "base_uri": "https://localhost:8080/"
        },
        "id": "BHcv1Q5FbiQL",
        "outputId": "2db1216b-dc4f-4916-afb2-653a6dcacc92"
      },
      "outputs": [
        {
          "output_type": "execute_result",
          "data": {
            "text/plain": [
              "0.4021205748335086"
            ]
          },
          "metadata": {},
          "execution_count": 104
        }
      ],
      "source": [
        "svc.score(x_train,y_train)"
      ]
    },
    {
      "cell_type": "code",
      "execution_count": null,
      "metadata": {
        "colab": {
          "base_uri": "https://localhost:8080/"
        },
        "id": "x94dwq9jbl2k",
        "outputId": "9c214f5e-9aa0-4466-ab70-4cf9f1c0360c"
      },
      "outputs": [
        {
          "output_type": "execute_result",
          "data": {
            "text/plain": [
              "0.39151770066596564"
            ]
          },
          "metadata": {},
          "execution_count": 105
        }
      ],
      "source": [
        "svc.score(x_test,y_test)"
      ]
    },
    {
      "cell_type": "code",
      "execution_count": null,
      "metadata": {
        "colab": {
          "base_uri": "https://localhost:8080/",
          "height": 334
        },
        "id": "24tO2nntbpGR",
        "outputId": "970bc825-ba8c-4cb5-8f06-18f7a406ecdd"
      },
      "outputs": [
        {
          "output_type": "stream",
          "name": "stderr",
          "text": [
            "/usr/local/lib/python3.7/dist-packages/sklearn/utils/deprecation.py:87: FutureWarning: Function plot_confusion_matrix is deprecated; Function `plot_confusion_matrix` is deprecated in 1.0 and will be removed in 1.2. Use one of the class methods: ConfusionMatrixDisplay.from_predictions or ConfusionMatrixDisplay.from_estimator.\n",
            "  warnings.warn(msg, category=FutureWarning)\n"
          ]
        },
        {
          "output_type": "display_data",
          "data": {
            "text/plain": [
              "<Figure size 432x288 with 2 Axes>"
            ],
            "image/png": "[encoded data removed]"
          },
          "metadata": {
            "needs_background": "light"
          }
        }
      ],
      "source": [
        "plot_confusion_matrix(svc, x_test, y_test, cmap='Blues', display_labels=['Negative','Positive'])\n",
        "plt.show()"
      ]
    },
    {
      "cell_type": "code",
      "source": [],
      "metadata": {
        "id": "Q1yGFNInWZt5"
      },
      "execution_count": null,
      "outputs": []
    }
  ]
}